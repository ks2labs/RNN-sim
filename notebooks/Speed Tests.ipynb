{
 "cells": [
  {
   "cell_type": "code",
   "execution_count": 1,
   "id": "5ef4f755",
   "metadata": {},
   "outputs": [],
   "source": [
    "import re\n",
    "import random\n",
    "import numpy as np\n",
    "from tqdm import trange\n",
    "from newspaper import Article\n",
    "\n",
    "import torch\n",
    "from torch import nn\n",
    "from torch.nn import functional as F\n",
    "from torch.utils.data import DataLoader, TensorDataset\n",
    " \n",
    "from transformers.models import gpt2\n",
    "from transformers import GPT2Config, GPT2LMHeadModel\n",
    "\n",
    "import matplotlib.pyplot as plt\n",
    "%matplotlib inline"
   ]
  },
  {
   "cell_type": "code",
   "execution_count": 319,
   "id": "faf7f70f",
   "metadata": {},
   "outputs": [],
   "source": [
    "# define the config to be used\n",
    "vocab_size = 38\n",
    "tinyconf = GPT2Config(\n",
    "  vocab_size=vocab_size,\n",
    "  n_positions=1024,\n",
    "  n_ctx=1024,\n",
    "  n_embd=128,\n",
    "  n_layer=12,\n",
    "  n_head=8\n",
    ")"
   ]
  },
  {
   "cell_type": "code",
   "execution_count": 329,
   "id": "8f04d372",
   "metadata": {},
   "outputs": [],
   "source": [
    "# from previous experiment\n",
    "text_lengths = np.array([  50,   59,   69,   79,   89,   99,  109,  118,  128,  138,  148,\n",
    "        158,  168,  177,  187,  197,  207,  217,  227,  236,  246,  256,\n",
    "        266,  276,  286,  295,  305,  315,  325,  335,  345,  354,  364,\n",
    "        374,  384,  394,  404,  414,  423,  433,  443,  453,  463,  473,\n",
    "        482,  492,  502,  512,  522,  532,  541,  551,  561,  571,  581,\n",
    "        591,  600,  610,  620,  630,  640,  650,  659,  669,  679,  689,\n",
    "        699,  709,  719,  728,  738,  748,  758,  768,  778,  787,  797,\n",
    "        807,  817,  827,  837,  846,  856,  866,  876,  886,  896,  905,\n",
    "        915,  925,  935,  945,  955,  964,  974,  984,  994, 1004, 1014,\n",
    "       1024])\n",
    "\n",
    "from time import time"
   ]
  },
  {
   "cell_type": "markdown",
   "id": "884d0ca1",
   "metadata": {},
   "source": [
    "## Torch GPT"
   ]
  },
  {
   "cell_type": "code",
   "execution_count": 331,
   "id": "202467eb",
   "metadata": {},
   "outputs": [
    {
     "name": "stdout",
     "output_type": "stream",
     "text": [
      "Num params: 2515456\n"
     ]
    }
   ],
   "source": [
    "# startiGPT2LMHeadModelh GPT-2 from HF\n",
    "model = GPT2LMHeadModel(tinyconf)\n",
    "model.eval()\n",
    "print(\"Num params:\", model.num_parameters())\n",
    "\n",
    "@torch.no_grad()\n",
    "def generate(\n",
    "  input_ids,\n",
    "  max_length,\n",
    "  num_return_sequences = 10\n",
    "):\n",
    "  # if just a sequence, batchify\n",
    "  if len(input_ids.shape) == 1:\n",
    "    input_ids = input_ids.unsqueeze(0)\n",
    "\n",
    "  # since the hidden states for all `num_return_sequences` will be same\n",
    "  # we first run those and then tile\n",
    "  B, S = input_ids.shape\n",
    "\n",
    "  assert B == 1, \"Only 1 sequence at a time can be generated\"\n",
    "  \n",
    "  input_ids = torch.tile(input_ids, [num_return_sequences, 1])\n",
    "  \n",
    "  for i in range(S+1, max_length+1, 1):\n",
    "    logits = model(input_ids).logits[:, -1, :] # only the last token\n",
    "    \n",
    "    # sample next tokens randomly\n",
    "    probs = F.softmax(logits, dim=-1)\n",
    "    ix = torch.multinomial(probs, num_samples=1).view(-1, 1)\n",
    "    input_ids = torch.cat([input_ids, ix], dim = -1)"
   ]
  },
  {
   "cell_type": "code",
   "execution_count": 324,
   "id": "fdc2269a",
   "metadata": {},
   "outputs": [
    {
     "name": "stderr",
     "output_type": "stream",
     "text": [
      " 33%|███▎      | 33/100 [24:26<49:37, 44.45s/it]   \n"
     ]
    },
    {
     "ename": "KeyboardInterrupt",
     "evalue": "",
     "output_type": "error",
     "traceback": [
      "\u001b[0;31m---------------------------------------------------------------------------\u001b[0m",
      "\u001b[0;31mKeyboardInterrupt\u001b[0m                         Traceback (most recent call last)",
      "\u001b[0;32m<ipython-input-324-f3331a6a3731>\u001b[0m in \u001b[0;36m<module>\u001b[0;34m\u001b[0m\n\u001b[1;32m      3\u001b[0m \u001b[0;32mfor\u001b[0m \u001b[0m_\u001b[0m\u001b[0;34m,\u001b[0m \u001b[0mmax_length\u001b[0m \u001b[0;32min\u001b[0m \u001b[0mzip\u001b[0m\u001b[0;34m(\u001b[0m\u001b[0mtrange\u001b[0m\u001b[0;34m(\u001b[0m\u001b[0mlen\u001b[0m\u001b[0;34m(\u001b[0m\u001b[0mtext_lengths\u001b[0m\u001b[0;34m)\u001b[0m\u001b[0;34m)\u001b[0m\u001b[0;34m,\u001b[0m \u001b[0mtext_lengths\u001b[0m\u001b[0;34m)\u001b[0m\u001b[0;34m:\u001b[0m\u001b[0;34m\u001b[0m\u001b[0;34m\u001b[0m\u001b[0m\n\u001b[1;32m      4\u001b[0m   \u001b[0mst\u001b[0m \u001b[0;34m=\u001b[0m \u001b[0mtime\u001b[0m\u001b[0;34m(\u001b[0m\u001b[0;34m)\u001b[0m\u001b[0;34m\u001b[0m\u001b[0;34m\u001b[0m\u001b[0m\n\u001b[0;32m----> 5\u001b[0;31m   \u001b[0mgenerate\u001b[0m\u001b[0;34m(\u001b[0m\u001b[0msample_inputs\u001b[0m\u001b[0;34m,\u001b[0m \u001b[0mmax_length\u001b[0m\u001b[0;34m)\u001b[0m\u001b[0;34m\u001b[0m\u001b[0;34m\u001b[0m\u001b[0m\n\u001b[0m\u001b[1;32m      6\u001b[0m   \u001b[0mtime_per_seq_vanilla_gpt\u001b[0m\u001b[0;34m[\u001b[0m\u001b[0mmax_length\u001b[0m\u001b[0;34m]\u001b[0m \u001b[0;34m=\u001b[0m \u001b[0mtime\u001b[0m\u001b[0;34m(\u001b[0m\u001b[0;34m)\u001b[0m \u001b[0;34m-\u001b[0m \u001b[0mst\u001b[0m\u001b[0;34m\u001b[0m\u001b[0;34m\u001b[0m\u001b[0m\n",
      "\u001b[0;32m~/Library/Python/3.8/lib/python/site-packages/torch/autograd/grad_mode.py\u001b[0m in \u001b[0;36mdecorate_context\u001b[0;34m(*args, **kwargs)\u001b[0m\n\u001b[1;32m     25\u001b[0m         \u001b[0;32mdef\u001b[0m \u001b[0mdecorate_context\u001b[0m\u001b[0;34m(\u001b[0m\u001b[0;34m*\u001b[0m\u001b[0margs\u001b[0m\u001b[0;34m,\u001b[0m \u001b[0;34m**\u001b[0m\u001b[0mkwargs\u001b[0m\u001b[0;34m)\u001b[0m\u001b[0;34m:\u001b[0m\u001b[0;34m\u001b[0m\u001b[0;34m\u001b[0m\u001b[0m\n\u001b[1;32m     26\u001b[0m             \u001b[0;32mwith\u001b[0m \u001b[0mself\u001b[0m\u001b[0;34m.\u001b[0m\u001b[0m__class__\u001b[0m\u001b[0;34m(\u001b[0m\u001b[0;34m)\u001b[0m\u001b[0;34m:\u001b[0m\u001b[0;34m\u001b[0m\u001b[0;34m\u001b[0m\u001b[0m\n\u001b[0;32m---> 27\u001b[0;31m                 \u001b[0;32mreturn\u001b[0m \u001b[0mfunc\u001b[0m\u001b[0;34m(\u001b[0m\u001b[0;34m*\u001b[0m\u001b[0margs\u001b[0m\u001b[0;34m,\u001b[0m \u001b[0;34m**\u001b[0m\u001b[0mkwargs\u001b[0m\u001b[0;34m)\u001b[0m\u001b[0;34m\u001b[0m\u001b[0;34m\u001b[0m\u001b[0m\n\u001b[0m\u001b[1;32m     28\u001b[0m         \u001b[0;32mreturn\u001b[0m \u001b[0mcast\u001b[0m\u001b[0;34m(\u001b[0m\u001b[0mF\u001b[0m\u001b[0;34m,\u001b[0m \u001b[0mdecorate_context\u001b[0m\u001b[0;34m)\u001b[0m\u001b[0;34m\u001b[0m\u001b[0;34m\u001b[0m\u001b[0m\n\u001b[1;32m     29\u001b[0m \u001b[0;34m\u001b[0m\u001b[0m\n",
      "\u001b[0;32m<ipython-input-323-5df0a278632e>\u001b[0m in \u001b[0;36mgenerate\u001b[0;34m(input_ids, max_length, num_return_sequences)\u001b[0m\n\u001b[1;32m     23\u001b[0m \u001b[0;34m\u001b[0m\u001b[0m\n\u001b[1;32m     24\u001b[0m   \u001b[0;32mfor\u001b[0m \u001b[0mi\u001b[0m \u001b[0;32min\u001b[0m \u001b[0mrange\u001b[0m\u001b[0;34m(\u001b[0m\u001b[0mS\u001b[0m\u001b[0;34m+\u001b[0m\u001b[0;36m1\u001b[0m\u001b[0;34m,\u001b[0m \u001b[0mmax_length\u001b[0m\u001b[0;34m+\u001b[0m\u001b[0;36m1\u001b[0m\u001b[0;34m,\u001b[0m \u001b[0;36m1\u001b[0m\u001b[0;34m)\u001b[0m\u001b[0;34m:\u001b[0m\u001b[0;34m\u001b[0m\u001b[0;34m\u001b[0m\u001b[0m\n\u001b[0;32m---> 25\u001b[0;31m     \u001b[0mlogits\u001b[0m \u001b[0;34m=\u001b[0m \u001b[0mmodel\u001b[0m\u001b[0;34m(\u001b[0m\u001b[0minput_ids\u001b[0m\u001b[0;34m)\u001b[0m\u001b[0;34m.\u001b[0m\u001b[0mlogits\u001b[0m\u001b[0;34m[\u001b[0m\u001b[0;34m:\u001b[0m\u001b[0;34m,\u001b[0m \u001b[0;34m-\u001b[0m\u001b[0;36m1\u001b[0m\u001b[0;34m,\u001b[0m \u001b[0;34m:\u001b[0m\u001b[0;34m]\u001b[0m \u001b[0;31m# only the last token\u001b[0m\u001b[0;34m\u001b[0m\u001b[0;34m\u001b[0m\u001b[0m\n\u001b[0m\u001b[1;32m     26\u001b[0m \u001b[0;34m\u001b[0m\u001b[0m\n\u001b[1;32m     27\u001b[0m     \u001b[0;31m# sample next tokens randomly\u001b[0m\u001b[0;34m\u001b[0m\u001b[0;34m\u001b[0m\u001b[0;34m\u001b[0m\u001b[0m\n",
      "\u001b[0;32m~/Library/Python/3.8/lib/python/site-packages/torch/nn/modules/module.py\u001b[0m in \u001b[0;36m_call_impl\u001b[0;34m(self, *input, **kwargs)\u001b[0m\n\u001b[1;32m    887\u001b[0m             \u001b[0mresult\u001b[0m \u001b[0;34m=\u001b[0m \u001b[0mself\u001b[0m\u001b[0;34m.\u001b[0m\u001b[0m_slow_forward\u001b[0m\u001b[0;34m(\u001b[0m\u001b[0;34m*\u001b[0m\u001b[0minput\u001b[0m\u001b[0;34m,\u001b[0m \u001b[0;34m**\u001b[0m\u001b[0mkwargs\u001b[0m\u001b[0;34m)\u001b[0m\u001b[0;34m\u001b[0m\u001b[0;34m\u001b[0m\u001b[0m\n\u001b[1;32m    888\u001b[0m         \u001b[0;32melse\u001b[0m\u001b[0;34m:\u001b[0m\u001b[0;34m\u001b[0m\u001b[0;34m\u001b[0m\u001b[0m\n\u001b[0;32m--> 889\u001b[0;31m             \u001b[0mresult\u001b[0m \u001b[0;34m=\u001b[0m \u001b[0mself\u001b[0m\u001b[0;34m.\u001b[0m\u001b[0mforward\u001b[0m\u001b[0;34m(\u001b[0m\u001b[0;34m*\u001b[0m\u001b[0minput\u001b[0m\u001b[0;34m,\u001b[0m \u001b[0;34m**\u001b[0m\u001b[0mkwargs\u001b[0m\u001b[0;34m)\u001b[0m\u001b[0;34m\u001b[0m\u001b[0;34m\u001b[0m\u001b[0m\n\u001b[0m\u001b[1;32m    890\u001b[0m         for hook in itertools.chain(\n\u001b[1;32m    891\u001b[0m                 \u001b[0m_global_forward_hooks\u001b[0m\u001b[0;34m.\u001b[0m\u001b[0mvalues\u001b[0m\u001b[0;34m(\u001b[0m\u001b[0;34m)\u001b[0m\u001b[0;34m,\u001b[0m\u001b[0;34m\u001b[0m\u001b[0;34m\u001b[0m\u001b[0m\n",
      "\u001b[0;32m~/Library/Python/3.8/lib/python/site-packages/transformers/models/gpt2/modeling_gpt2.py\u001b[0m in \u001b[0;36mforward\u001b[0;34m(self, input_ids, past_key_values, attention_mask, token_type_ids, position_ids, head_mask, inputs_embeds, encoder_hidden_states, encoder_attention_mask, labels, use_cache, output_attentions, output_hidden_states, return_dict)\u001b[0m\n\u001b[1;32m    902\u001b[0m         \u001b[0mreturn_dict\u001b[0m \u001b[0;34m=\u001b[0m \u001b[0mreturn_dict\u001b[0m \u001b[0;32mif\u001b[0m \u001b[0mreturn_dict\u001b[0m \u001b[0;32mis\u001b[0m \u001b[0;32mnot\u001b[0m \u001b[0;32mNone\u001b[0m \u001b[0;32melse\u001b[0m \u001b[0mself\u001b[0m\u001b[0;34m.\u001b[0m\u001b[0mconfig\u001b[0m\u001b[0;34m.\u001b[0m\u001b[0muse_return_dict\u001b[0m\u001b[0;34m\u001b[0m\u001b[0;34m\u001b[0m\u001b[0m\n\u001b[1;32m    903\u001b[0m \u001b[0;34m\u001b[0m\u001b[0m\n\u001b[0;32m--> 904\u001b[0;31m         transformer_outputs = self.transformer(\n\u001b[0m\u001b[1;32m    905\u001b[0m             \u001b[0minput_ids\u001b[0m\u001b[0;34m,\u001b[0m\u001b[0;34m\u001b[0m\u001b[0;34m\u001b[0m\u001b[0m\n\u001b[1;32m    906\u001b[0m             \u001b[0mpast_key_values\u001b[0m\u001b[0;34m=\u001b[0m\u001b[0mpast_key_values\u001b[0m\u001b[0;34m,\u001b[0m\u001b[0;34m\u001b[0m\u001b[0;34m\u001b[0m\u001b[0m\n",
      "\u001b[0;32m~/Library/Python/3.8/lib/python/site-packages/torch/nn/modules/module.py\u001b[0m in \u001b[0;36m_call_impl\u001b[0;34m(self, *input, **kwargs)\u001b[0m\n\u001b[1;32m    887\u001b[0m             \u001b[0mresult\u001b[0m \u001b[0;34m=\u001b[0m \u001b[0mself\u001b[0m\u001b[0;34m.\u001b[0m\u001b[0m_slow_forward\u001b[0m\u001b[0;34m(\u001b[0m\u001b[0;34m*\u001b[0m\u001b[0minput\u001b[0m\u001b[0;34m,\u001b[0m \u001b[0;34m**\u001b[0m\u001b[0mkwargs\u001b[0m\u001b[0;34m)\u001b[0m\u001b[0;34m\u001b[0m\u001b[0;34m\u001b[0m\u001b[0m\n\u001b[1;32m    888\u001b[0m         \u001b[0;32melse\u001b[0m\u001b[0;34m:\u001b[0m\u001b[0;34m\u001b[0m\u001b[0;34m\u001b[0m\u001b[0m\n\u001b[0;32m--> 889\u001b[0;31m             \u001b[0mresult\u001b[0m \u001b[0;34m=\u001b[0m \u001b[0mself\u001b[0m\u001b[0;34m.\u001b[0m\u001b[0mforward\u001b[0m\u001b[0;34m(\u001b[0m\u001b[0;34m*\u001b[0m\u001b[0minput\u001b[0m\u001b[0;34m,\u001b[0m \u001b[0;34m**\u001b[0m\u001b[0mkwargs\u001b[0m\u001b[0;34m)\u001b[0m\u001b[0;34m\u001b[0m\u001b[0;34m\u001b[0m\u001b[0m\n\u001b[0m\u001b[1;32m    890\u001b[0m         for hook in itertools.chain(\n\u001b[1;32m    891\u001b[0m                 \u001b[0m_global_forward_hooks\u001b[0m\u001b[0;34m.\u001b[0m\u001b[0mvalues\u001b[0m\u001b[0;34m(\u001b[0m\u001b[0;34m)\u001b[0m\u001b[0;34m,\u001b[0m\u001b[0;34m\u001b[0m\u001b[0;34m\u001b[0m\u001b[0m\n",
      "\u001b[0;32m~/Library/Python/3.8/lib/python/site-packages/transformers/models/gpt2/modeling_gpt2.py\u001b[0m in \u001b[0;36mforward\u001b[0;34m(self, input_ids, past_key_values, attention_mask, token_type_ids, position_ids, head_mask, inputs_embeds, encoder_hidden_states, encoder_attention_mask, use_cache, output_attentions, output_hidden_states, return_dict)\u001b[0m\n\u001b[1;32m    750\u001b[0m                 )\n\u001b[1;32m    751\u001b[0m             \u001b[0;32melse\u001b[0m\u001b[0;34m:\u001b[0m\u001b[0;34m\u001b[0m\u001b[0;34m\u001b[0m\u001b[0m\n\u001b[0;32m--> 752\u001b[0;31m                 outputs = block(\n\u001b[0m\u001b[1;32m    753\u001b[0m                     \u001b[0mhidden_states\u001b[0m\u001b[0;34m,\u001b[0m\u001b[0;34m\u001b[0m\u001b[0;34m\u001b[0m\u001b[0m\n\u001b[1;32m    754\u001b[0m                     \u001b[0mlayer_past\u001b[0m\u001b[0;34m=\u001b[0m\u001b[0mlayer_past\u001b[0m\u001b[0;34m,\u001b[0m\u001b[0;34m\u001b[0m\u001b[0;34m\u001b[0m\u001b[0m\n",
      "\u001b[0;32m~/Library/Python/3.8/lib/python/site-packages/torch/nn/modules/module.py\u001b[0m in \u001b[0;36m_call_impl\u001b[0;34m(self, *input, **kwargs)\u001b[0m\n\u001b[1;32m    887\u001b[0m             \u001b[0mresult\u001b[0m \u001b[0;34m=\u001b[0m \u001b[0mself\u001b[0m\u001b[0;34m.\u001b[0m\u001b[0m_slow_forward\u001b[0m\u001b[0;34m(\u001b[0m\u001b[0;34m*\u001b[0m\u001b[0minput\u001b[0m\u001b[0;34m,\u001b[0m \u001b[0;34m**\u001b[0m\u001b[0mkwargs\u001b[0m\u001b[0;34m)\u001b[0m\u001b[0;34m\u001b[0m\u001b[0;34m\u001b[0m\u001b[0m\n\u001b[1;32m    888\u001b[0m         \u001b[0;32melse\u001b[0m\u001b[0;34m:\u001b[0m\u001b[0;34m\u001b[0m\u001b[0;34m\u001b[0m\u001b[0m\n\u001b[0;32m--> 889\u001b[0;31m             \u001b[0mresult\u001b[0m \u001b[0;34m=\u001b[0m \u001b[0mself\u001b[0m\u001b[0;34m.\u001b[0m\u001b[0mforward\u001b[0m\u001b[0;34m(\u001b[0m\u001b[0;34m*\u001b[0m\u001b[0minput\u001b[0m\u001b[0;34m,\u001b[0m \u001b[0;34m**\u001b[0m\u001b[0mkwargs\u001b[0m\u001b[0;34m)\u001b[0m\u001b[0;34m\u001b[0m\u001b[0;34m\u001b[0m\u001b[0m\n\u001b[0m\u001b[1;32m    890\u001b[0m         for hook in itertools.chain(\n\u001b[1;32m    891\u001b[0m                 \u001b[0m_global_forward_hooks\u001b[0m\u001b[0;34m.\u001b[0m\u001b[0mvalues\u001b[0m\u001b[0;34m(\u001b[0m\u001b[0;34m)\u001b[0m\u001b[0;34m,\u001b[0m\u001b[0;34m\u001b[0m\u001b[0;34m\u001b[0m\u001b[0m\n",
      "\u001b[0;32m~/Library/Python/3.8/lib/python/site-packages/transformers/models/gpt2/modeling_gpt2.py\u001b[0m in \u001b[0;36mforward\u001b[0;34m(self, hidden_states, layer_past, attention_mask, head_mask, encoder_hidden_states, encoder_attention_mask, use_cache, output_attentions)\u001b[0m\n\u001b[1;32m    288\u001b[0m         \u001b[0moutput_attentions\u001b[0m\u001b[0;34m=\u001b[0m\u001b[0;32mFalse\u001b[0m\u001b[0;34m,\u001b[0m\u001b[0;34m\u001b[0m\u001b[0;34m\u001b[0m\u001b[0m\n\u001b[1;32m    289\u001b[0m     ):\n\u001b[0;32m--> 290\u001b[0;31m         attn_outputs = self.attn(\n\u001b[0m\u001b[1;32m    291\u001b[0m             \u001b[0mself\u001b[0m\u001b[0;34m.\u001b[0m\u001b[0mln_1\u001b[0m\u001b[0;34m(\u001b[0m\u001b[0mhidden_states\u001b[0m\u001b[0;34m)\u001b[0m\u001b[0;34m,\u001b[0m\u001b[0;34m\u001b[0m\u001b[0;34m\u001b[0m\u001b[0m\n\u001b[1;32m    292\u001b[0m             \u001b[0mlayer_past\u001b[0m\u001b[0;34m=\u001b[0m\u001b[0mlayer_past\u001b[0m\u001b[0;34m,\u001b[0m\u001b[0;34m\u001b[0m\u001b[0;34m\u001b[0m\u001b[0m\n",
      "\u001b[0;32m~/Library/Python/3.8/lib/python/site-packages/torch/nn/modules/module.py\u001b[0m in \u001b[0;36m_call_impl\u001b[0;34m(self, *input, **kwargs)\u001b[0m\n\u001b[1;32m    887\u001b[0m             \u001b[0mresult\u001b[0m \u001b[0;34m=\u001b[0m \u001b[0mself\u001b[0m\u001b[0;34m.\u001b[0m\u001b[0m_slow_forward\u001b[0m\u001b[0;34m(\u001b[0m\u001b[0;34m*\u001b[0m\u001b[0minput\u001b[0m\u001b[0;34m,\u001b[0m \u001b[0;34m**\u001b[0m\u001b[0mkwargs\u001b[0m\u001b[0;34m)\u001b[0m\u001b[0;34m\u001b[0m\u001b[0;34m\u001b[0m\u001b[0m\n\u001b[1;32m    888\u001b[0m         \u001b[0;32melse\u001b[0m\u001b[0;34m:\u001b[0m\u001b[0;34m\u001b[0m\u001b[0;34m\u001b[0m\u001b[0m\n\u001b[0;32m--> 889\u001b[0;31m             \u001b[0mresult\u001b[0m \u001b[0;34m=\u001b[0m \u001b[0mself\u001b[0m\u001b[0;34m.\u001b[0m\u001b[0mforward\u001b[0m\u001b[0;34m(\u001b[0m\u001b[0;34m*\u001b[0m\u001b[0minput\u001b[0m\u001b[0;34m,\u001b[0m \u001b[0;34m**\u001b[0m\u001b[0mkwargs\u001b[0m\u001b[0;34m)\u001b[0m\u001b[0;34m\u001b[0m\u001b[0;34m\u001b[0m\u001b[0m\n\u001b[0m\u001b[1;32m    890\u001b[0m         for hook in itertools.chain(\n\u001b[1;32m    891\u001b[0m                 \u001b[0m_global_forward_hooks\u001b[0m\u001b[0;34m.\u001b[0m\u001b[0mvalues\u001b[0m\u001b[0;34m(\u001b[0m\u001b[0;34m)\u001b[0m\u001b[0;34m,\u001b[0m\u001b[0;34m\u001b[0m\u001b[0;34m\u001b[0m\u001b[0m\n",
      "\u001b[0;32m~/Library/Python/3.8/lib/python/site-packages/transformers/models/gpt2/modeling_gpt2.py\u001b[0m in \u001b[0;36mforward\u001b[0;34m(self, hidden_states, layer_past, attention_mask, head_mask, encoder_hidden_states, encoder_attention_mask, use_cache, output_attentions)\u001b[0m\n\u001b[1;32m    243\u001b[0m \u001b[0;34m\u001b[0m\u001b[0m\n\u001b[1;32m    244\u001b[0m         \u001b[0ma\u001b[0m \u001b[0;34m=\u001b[0m \u001b[0mself\u001b[0m\u001b[0;34m.\u001b[0m\u001b[0mmerge_heads\u001b[0m\u001b[0;34m(\u001b[0m\u001b[0ma\u001b[0m\u001b[0;34m)\u001b[0m\u001b[0;34m\u001b[0m\u001b[0;34m\u001b[0m\u001b[0m\n\u001b[0;32m--> 245\u001b[0;31m         \u001b[0ma\u001b[0m \u001b[0;34m=\u001b[0m \u001b[0mself\u001b[0m\u001b[0;34m.\u001b[0m\u001b[0mc_proj\u001b[0m\u001b[0;34m(\u001b[0m\u001b[0ma\u001b[0m\u001b[0;34m)\u001b[0m\u001b[0;34m\u001b[0m\u001b[0;34m\u001b[0m\u001b[0m\n\u001b[0m\u001b[1;32m    246\u001b[0m         \u001b[0ma\u001b[0m \u001b[0;34m=\u001b[0m \u001b[0mself\u001b[0m\u001b[0;34m.\u001b[0m\u001b[0mresid_dropout\u001b[0m\u001b[0;34m(\u001b[0m\u001b[0ma\u001b[0m\u001b[0;34m)\u001b[0m\u001b[0;34m\u001b[0m\u001b[0;34m\u001b[0m\u001b[0m\n\u001b[1;32m    247\u001b[0m \u001b[0;34m\u001b[0m\u001b[0m\n",
      "\u001b[0;32m~/Library/Python/3.8/lib/python/site-packages/torch/nn/modules/module.py\u001b[0m in \u001b[0;36m_call_impl\u001b[0;34m(self, *input, **kwargs)\u001b[0m\n\u001b[1;32m    887\u001b[0m             \u001b[0mresult\u001b[0m \u001b[0;34m=\u001b[0m \u001b[0mself\u001b[0m\u001b[0;34m.\u001b[0m\u001b[0m_slow_forward\u001b[0m\u001b[0;34m(\u001b[0m\u001b[0;34m*\u001b[0m\u001b[0minput\u001b[0m\u001b[0;34m,\u001b[0m \u001b[0;34m**\u001b[0m\u001b[0mkwargs\u001b[0m\u001b[0;34m)\u001b[0m\u001b[0;34m\u001b[0m\u001b[0;34m\u001b[0m\u001b[0m\n\u001b[1;32m    888\u001b[0m         \u001b[0;32melse\u001b[0m\u001b[0;34m:\u001b[0m\u001b[0;34m\u001b[0m\u001b[0;34m\u001b[0m\u001b[0m\n\u001b[0;32m--> 889\u001b[0;31m             \u001b[0mresult\u001b[0m \u001b[0;34m=\u001b[0m \u001b[0mself\u001b[0m\u001b[0;34m.\u001b[0m\u001b[0mforward\u001b[0m\u001b[0;34m(\u001b[0m\u001b[0;34m*\u001b[0m\u001b[0minput\u001b[0m\u001b[0;34m,\u001b[0m \u001b[0;34m**\u001b[0m\u001b[0mkwargs\u001b[0m\u001b[0;34m)\u001b[0m\u001b[0;34m\u001b[0m\u001b[0;34m\u001b[0m\u001b[0m\n\u001b[0m\u001b[1;32m    890\u001b[0m         for hook in itertools.chain(\n\u001b[1;32m    891\u001b[0m                 \u001b[0m_global_forward_hooks\u001b[0m\u001b[0;34m.\u001b[0m\u001b[0mvalues\u001b[0m\u001b[0;34m(\u001b[0m\u001b[0;34m)\u001b[0m\u001b[0;34m,\u001b[0m\u001b[0;34m\u001b[0m\u001b[0;34m\u001b[0m\u001b[0m\n",
      "\u001b[0;32m~/Library/Python/3.8/lib/python/site-packages/transformers/modeling_utils.py\u001b[0m in \u001b[0;36mforward\u001b[0;34m(self, x)\u001b[0m\n\u001b[1;32m   1222\u001b[0m     \u001b[0;32mdef\u001b[0m \u001b[0mforward\u001b[0m\u001b[0;34m(\u001b[0m\u001b[0mself\u001b[0m\u001b[0;34m,\u001b[0m \u001b[0mx\u001b[0m\u001b[0;34m)\u001b[0m\u001b[0;34m:\u001b[0m\u001b[0;34m\u001b[0m\u001b[0;34m\u001b[0m\u001b[0m\n\u001b[1;32m   1223\u001b[0m         \u001b[0msize_out\u001b[0m \u001b[0;34m=\u001b[0m \u001b[0mx\u001b[0m\u001b[0;34m.\u001b[0m\u001b[0msize\u001b[0m\u001b[0;34m(\u001b[0m\u001b[0;34m)\u001b[0m\u001b[0;34m[\u001b[0m\u001b[0;34m:\u001b[0m\u001b[0;34m-\u001b[0m\u001b[0;36m1\u001b[0m\u001b[0;34m]\u001b[0m \u001b[0;34m+\u001b[0m \u001b[0;34m(\u001b[0m\u001b[0mself\u001b[0m\u001b[0;34m.\u001b[0m\u001b[0mnf\u001b[0m\u001b[0;34m,\u001b[0m\u001b[0;34m)\u001b[0m\u001b[0;34m\u001b[0m\u001b[0;34m\u001b[0m\u001b[0m\n\u001b[0;32m-> 1224\u001b[0;31m         \u001b[0mx\u001b[0m \u001b[0;34m=\u001b[0m \u001b[0mtorch\u001b[0m\u001b[0;34m.\u001b[0m\u001b[0maddmm\u001b[0m\u001b[0;34m(\u001b[0m\u001b[0mself\u001b[0m\u001b[0;34m.\u001b[0m\u001b[0mbias\u001b[0m\u001b[0;34m,\u001b[0m \u001b[0mx\u001b[0m\u001b[0;34m.\u001b[0m\u001b[0mview\u001b[0m\u001b[0;34m(\u001b[0m\u001b[0;34m-\u001b[0m\u001b[0;36m1\u001b[0m\u001b[0;34m,\u001b[0m \u001b[0mx\u001b[0m\u001b[0;34m.\u001b[0m\u001b[0msize\u001b[0m\u001b[0;34m(\u001b[0m\u001b[0;34m-\u001b[0m\u001b[0;36m1\u001b[0m\u001b[0;34m)\u001b[0m\u001b[0;34m)\u001b[0m\u001b[0;34m,\u001b[0m \u001b[0mself\u001b[0m\u001b[0;34m.\u001b[0m\u001b[0mweight\u001b[0m\u001b[0;34m)\u001b[0m\u001b[0;34m\u001b[0m\u001b[0;34m\u001b[0m\u001b[0m\n\u001b[0m\u001b[1;32m   1225\u001b[0m         \u001b[0mx\u001b[0m \u001b[0;34m=\u001b[0m \u001b[0mx\u001b[0m\u001b[0;34m.\u001b[0m\u001b[0mview\u001b[0m\u001b[0;34m(\u001b[0m\u001b[0;34m*\u001b[0m\u001b[0msize_out\u001b[0m\u001b[0;34m)\u001b[0m\u001b[0;34m\u001b[0m\u001b[0;34m\u001b[0m\u001b[0m\n\u001b[1;32m   1226\u001b[0m         \u001b[0;32mreturn\u001b[0m \u001b[0mx\u001b[0m\u001b[0;34m\u001b[0m\u001b[0;34m\u001b[0m\u001b[0m\n",
      "\u001b[0;31mKeyboardInterrupt\u001b[0m: "
     ]
    }
   ],
   "source": [
    "sample_inputs = torch.randint(low = 0, high = vocab_size, size = (1, 10))\n",
    "time_per_seq_vanilla_gpt = {}\n",
    "for _, max_length in zip(trange(len(text_lengths)), text_lengths):\n",
    "  st = time()\n",
    "  generate(sample_inputs, max_length)\n",
    "  time_per_seq_vanilla_gpt[max_length] = time() - st"
   ]
  },
  {
   "cell_type": "code",
   "execution_count": 325,
   "id": "28868820",
   "metadata": {},
   "outputs": [
    {
     "data": {
      "text/plain": [
       "dict_values([1.6622998714447021, 2.1930811405181885, 2.992302894592285, 4.197546005249023, 5.14570689201355, 6.395497798919678, 8.011377096176147, 8.973557949066162, 10.591028928756714, 12.37233304977417, 14.557507038116455, 17.12027907371521, 19.828334093093872, 22.53909397125244, 25.5178701877594, 28.907083988189697, 32.55218505859375, 36.469399213790894, 40.74887204170227, 45.735422134399414, 49.355974197387695, 54.34034514427185, 59.26567196846008, 64.68545269966125, 71.53783798217773, 76.03711295127869, 82.26391291618347, 85.60085558891296, 89.99368333816528, 95.99286603927612, 104.54243302345276, 110.8418390750885, 117.99759483337402])"
      ]
     },
     "execution_count": 325,
     "metadata": {},
     "output_type": "execute_result"
    }
   ],
   "source": [
    "time_per_seq_vanilla_gpt.values()"
   ]
  },
  {
   "cell_type": "code",
   "execution_count": 334,
   "id": "5baa5bd9",
   "metadata": {},
   "outputs": [
    {
     "name": "stderr",
     "output_type": "stream",
     "text": [
      "100%|██████████| 100/100 [29:27<00:00, 17.67s/it]\n"
     ]
    }
   ],
   "source": [
    "sample_inputs = torch.randint(low = 0, high = vocab_size, size = (1, 10))\n",
    "hf_gpt = {}\n",
    "for _, max_length in zip(trange(len(text_lengths)), text_lengths):\n",
    "  st = time()\n",
    "  model.generate(sample_inputs, max_length, do_sample = True, num_return_sequences=10, pad_token_id = 50256)\n",
    "  hf_gpt[max_length] = time() - st"
   ]
  },
  {
   "cell_type": "code",
   "execution_count": 337,
   "id": "aae035d8",
   "metadata": {},
   "outputs": [
    {
     "data": {
      "text/plain": [
       "array([ 0.54495478,  0.73299313,  0.89063501,  0.8986249 ,  1.10433006,\n",
       "        1.39928913,  1.48570991,  1.69396377,  1.79820895,  2.0881021 ,\n",
       "        2.33569813,  2.51664615,  2.8236711 ,  2.74206328,  3.06350803,\n",
       "        3.31710911,  3.92217016,  4.50567102,  4.63530302,  5.46945906,\n",
       "        4.54229307,  4.94176412,  5.30708218,  5.53489304,  5.55287886,\n",
       "        6.05769897,  6.55479288,  6.47484994,  6.66257071,  7.02209496,\n",
       "        7.227005  ,  7.45897579,  8.24314904,  7.8537209 ,  7.87742209,\n",
       "        8.58612514,  9.98917794,  9.76387882,  9.84815788, 10.37017703,\n",
       "       10.74239707, 11.12377501, 11.58302498, 11.92812705, 12.48084402,\n",
       "       12.77035689, 13.1333189 , 13.60988283, 14.03921103, 14.45418215,\n",
       "       15.24299717, 15.81887794, 16.71262121, 16.34567904, 16.66935301,\n",
       "       17.20844507, 17.86577606, 18.36354089, 18.84506202, 19.3054769 ,\n",
       "       19.76750112, 20.32446575, 20.85218191, 21.45198107, 22.07024384,\n",
       "       23.16882825, 23.12747598, 24.58696795, 23.89066076, 25.44354415,\n",
       "       27.26248407, 26.86530614, 27.20131779, 29.08896399, 28.16570878,\n",
       "       28.83509207, 31.397012  , 29.88769603, 30.73117709, 31.28997016,\n",
       "       31.95311689, 32.56238317, 33.18489814, 33.86880302, 34.29947424,\n",
       "       35.22009802, 35.93019819, 36.45086789, 37.04013205, 37.90798998,\n",
       "       38.68806195, 39.41154027, 40.73673224, 40.98018885, 41.63835025,\n",
       "       42.30890131, 41.36318588, 41.23907399, 41.78188992, 43.21324325])"
      ]
     },
     "execution_count": 337,
     "metadata": {},
     "output_type": "execute_result"
    }
   ],
   "source": [
    "np.array(list(hf_gpt.values()))"
   ]
  },
  {
   "cell_type": "code",
   "execution_count": 340,
   "id": "b529f51d",
   "metadata": {},
   "outputs": [
    {
     "name": "stderr",
     "output_type": "stream",
     "text": [
      "\r",
      "  0%|          | 0/100 [00:00<?, ?it/s]"
     ]
    },
    {
     "name": "stdout",
     "output_type": "stream",
     "text": [
      "124439808\n"
     ]
    },
    {
     "name": "stderr",
     "output_type": "stream",
     "text": [
      " 44%|████▍     | 44/100 [32:41<41:36, 44.59s/it]  \n"
     ]
    },
    {
     "ename": "KeyboardInterrupt",
     "evalue": "",
     "output_type": "error",
     "traceback": [
      "\u001b[0;31m---------------------------------------------------------------------------\u001b[0m",
      "\u001b[0;31mKeyboardInterrupt\u001b[0m                         Traceback (most recent call last)",
      "\u001b[0;32m<ipython-input-340-dff5b9ca92bf>\u001b[0m in \u001b[0;36m<module>\u001b[0;34m\u001b[0m\n\u001b[1;32m      8\u001b[0m \u001b[0;32mfor\u001b[0m \u001b[0m_\u001b[0m\u001b[0;34m,\u001b[0m \u001b[0mmax_length\u001b[0m \u001b[0;32min\u001b[0m \u001b[0mzip\u001b[0m\u001b[0;34m(\u001b[0m\u001b[0mtrange\u001b[0m\u001b[0;34m(\u001b[0m\u001b[0mlen\u001b[0m\u001b[0;34m(\u001b[0m\u001b[0mtext_lengths\u001b[0m\u001b[0;34m)\u001b[0m\u001b[0;34m)\u001b[0m\u001b[0;34m,\u001b[0m \u001b[0mtext_lengths\u001b[0m\u001b[0;34m)\u001b[0m\u001b[0;34m:\u001b[0m\u001b[0;34m\u001b[0m\u001b[0;34m\u001b[0m\u001b[0m\n\u001b[1;32m      9\u001b[0m   \u001b[0mst\u001b[0m \u001b[0;34m=\u001b[0m \u001b[0mtime\u001b[0m\u001b[0;34m(\u001b[0m\u001b[0;34m)\u001b[0m\u001b[0;34m\u001b[0m\u001b[0;34m\u001b[0m\u001b[0m\n\u001b[0;32m---> 10\u001b[0;31m   \u001b[0mmodel\u001b[0m\u001b[0;34m.\u001b[0m\u001b[0mgenerate\u001b[0m\u001b[0;34m(\u001b[0m\u001b[0msample_inputs\u001b[0m\u001b[0;34m,\u001b[0m \u001b[0mmax_length\u001b[0m\u001b[0;34m,\u001b[0m \u001b[0mdo_sample\u001b[0m \u001b[0;34m=\u001b[0m \u001b[0;32mTrue\u001b[0m\u001b[0;34m,\u001b[0m \u001b[0mnum_return_sequences\u001b[0m\u001b[0;34m=\u001b[0m\u001b[0;36m10\u001b[0m\u001b[0;34m,\u001b[0m \u001b[0mpad_token_id\u001b[0m \u001b[0;34m=\u001b[0m \u001b[0;36m50256\u001b[0m\u001b[0;34m)\u001b[0m\u001b[0;34m\u001b[0m\u001b[0;34m\u001b[0m\u001b[0m\n\u001b[0m\u001b[1;32m     11\u001b[0m   \u001b[0mhf_gpt_small\u001b[0m\u001b[0;34m[\u001b[0m\u001b[0mmax_length\u001b[0m\u001b[0;34m]\u001b[0m \u001b[0;34m=\u001b[0m \u001b[0mtime\u001b[0m\u001b[0;34m(\u001b[0m\u001b[0;34m)\u001b[0m \u001b[0;34m-\u001b[0m \u001b[0mst\u001b[0m\u001b[0;34m\u001b[0m\u001b[0;34m\u001b[0m\u001b[0m\n",
      "\u001b[0;32m~/Library/Python/3.8/lib/python/site-packages/torch/autograd/grad_mode.py\u001b[0m in \u001b[0;36mdecorate_context\u001b[0;34m(*args, **kwargs)\u001b[0m\n\u001b[1;32m     25\u001b[0m         \u001b[0;32mdef\u001b[0m \u001b[0mdecorate_context\u001b[0m\u001b[0;34m(\u001b[0m\u001b[0;34m*\u001b[0m\u001b[0margs\u001b[0m\u001b[0;34m,\u001b[0m \u001b[0;34m**\u001b[0m\u001b[0mkwargs\u001b[0m\u001b[0;34m)\u001b[0m\u001b[0;34m:\u001b[0m\u001b[0;34m\u001b[0m\u001b[0;34m\u001b[0m\u001b[0m\n\u001b[1;32m     26\u001b[0m             \u001b[0;32mwith\u001b[0m \u001b[0mself\u001b[0m\u001b[0;34m.\u001b[0m\u001b[0m__class__\u001b[0m\u001b[0;34m(\u001b[0m\u001b[0;34m)\u001b[0m\u001b[0;34m:\u001b[0m\u001b[0;34m\u001b[0m\u001b[0;34m\u001b[0m\u001b[0m\n\u001b[0;32m---> 27\u001b[0;31m                 \u001b[0;32mreturn\u001b[0m \u001b[0mfunc\u001b[0m\u001b[0;34m(\u001b[0m\u001b[0;34m*\u001b[0m\u001b[0margs\u001b[0m\u001b[0;34m,\u001b[0m \u001b[0;34m**\u001b[0m\u001b[0mkwargs\u001b[0m\u001b[0;34m)\u001b[0m\u001b[0;34m\u001b[0m\u001b[0;34m\u001b[0m\u001b[0m\n\u001b[0m\u001b[1;32m     28\u001b[0m         \u001b[0;32mreturn\u001b[0m \u001b[0mcast\u001b[0m\u001b[0;34m(\u001b[0m\u001b[0mF\u001b[0m\u001b[0;34m,\u001b[0m \u001b[0mdecorate_context\u001b[0m\u001b[0;34m)\u001b[0m\u001b[0;34m\u001b[0m\u001b[0;34m\u001b[0m\u001b[0m\n\u001b[1;32m     29\u001b[0m \u001b[0;34m\u001b[0m\u001b[0m\n",
      "\u001b[0;32m~/Library/Python/3.8/lib/python/site-packages/transformers/generation_utils.py\u001b[0m in \u001b[0;36mgenerate\u001b[0;34m(self, input_ids, max_length, min_length, do_sample, early_stopping, num_beams, temperature, top_k, top_p, repetition_penalty, bad_words_ids, bos_token_id, pad_token_id, eos_token_id, length_penalty, no_repeat_ngram_size, encoder_no_repeat_ngram_size, num_return_sequences, max_time, decoder_start_token_id, use_cache, num_beam_groups, diversity_penalty, prefix_allowed_tokens_fn, output_attentions, output_hidden_states, output_scores, return_dict_in_generate, forced_bos_token_id, forced_eos_token_id, **model_kwargs)\u001b[0m\n\u001b[1;32m   1007\u001b[0m \u001b[0;34m\u001b[0m\u001b[0m\n\u001b[1;32m   1008\u001b[0m             \u001b[0;31m# sample\u001b[0m\u001b[0;34m\u001b[0m\u001b[0;34m\u001b[0m\u001b[0;34m\u001b[0m\u001b[0m\n\u001b[0;32m-> 1009\u001b[0;31m             return self.sample(\n\u001b[0m\u001b[1;32m   1010\u001b[0m                 \u001b[0minput_ids\u001b[0m\u001b[0;34m,\u001b[0m\u001b[0;34m\u001b[0m\u001b[0;34m\u001b[0m\u001b[0m\n\u001b[1;32m   1011\u001b[0m                 \u001b[0mlogits_processor\u001b[0m\u001b[0;34m=\u001b[0m\u001b[0mlogits_processor\u001b[0m\u001b[0;34m,\u001b[0m\u001b[0;34m\u001b[0m\u001b[0;34m\u001b[0m\u001b[0m\n",
      "\u001b[0;32m~/Library/Python/3.8/lib/python/site-packages/transformers/generation_utils.py\u001b[0m in \u001b[0;36msample\u001b[0;34m(self, input_ids, logits_processor, stopping_criteria, logits_warper, max_length, pad_token_id, eos_token_id, output_attentions, output_hidden_states, output_scores, return_dict_in_generate, **model_kwargs)\u001b[0m\n\u001b[1;32m   1480\u001b[0m \u001b[0;34m\u001b[0m\u001b[0m\n\u001b[1;32m   1481\u001b[0m             \u001b[0;31m# forward pass to get next token\u001b[0m\u001b[0;34m\u001b[0m\u001b[0;34m\u001b[0m\u001b[0;34m\u001b[0m\u001b[0m\n\u001b[0;32m-> 1482\u001b[0;31m             outputs = self(\n\u001b[0m\u001b[1;32m   1483\u001b[0m                 \u001b[0;34m**\u001b[0m\u001b[0mmodel_inputs\u001b[0m\u001b[0;34m,\u001b[0m\u001b[0;34m\u001b[0m\u001b[0;34m\u001b[0m\u001b[0m\n\u001b[1;32m   1484\u001b[0m                 \u001b[0mreturn_dict\u001b[0m\u001b[0;34m=\u001b[0m\u001b[0;32mTrue\u001b[0m\u001b[0;34m,\u001b[0m\u001b[0;34m\u001b[0m\u001b[0;34m\u001b[0m\u001b[0m\n",
      "\u001b[0;31mKeyboardInterrupt\u001b[0m: "
     ]
    }
   ],
   "source": [
    "# testing full GPT2 Small\n",
    "model = GPT2LMHeadModel.from_pretrained(\"gpt2\")\n",
    "model.eval()\n",
    "print(model.num_parameters())\n",
    "\n",
    "sample_inputs = torch.randint(low = 0, high = vocab_size, size = (1, 10))\n",
    "hf_gpt_small = {}\n",
    "for _, max_length in zip(trange(len(text_lengths)), text_lengths):\n",
    "  st = time()\n",
    "  model.generate(sample_inputs, max_length, do_sample = True, num_return_sequences=10, pad_token_id = 50256)\n",
    "  hf_gpt_small[max_length] = time() - st"
   ]
  },
  {
   "cell_type": "code",
   "execution_count": 343,
   "id": "51ea4152",
   "metadata": {},
   "outputs": [
    {
     "data": {
      "text/plain": [
       "array([ 4.66104198,  6.01691318,  7.20656204,  8.429111  ,  9.83679509,\n",
       "       11.12766981, 12.62173486, 13.91161394, 15.35557485, 16.85949302,\n",
       "       18.38110971, 20.11641026, 21.83768201, 23.38225818, 25.06135178,\n",
       "       26.83561707, 28.68084717, 30.51669407, 32.492589  , 34.13120389,\n",
       "       35.95620108, 37.91341186, 44.04446197, 43.17010403, 44.75529599,\n",
       "       47.77914095, 52.37193012, 55.93168211, 58.02335215, 56.84589434,\n",
       "       62.29041219, 63.25715995, 63.70156193, 65.28368807, 68.72804832,\n",
       "       70.68075681, 74.58965921, 79.20702791, 82.66970396, 82.34983492,\n",
       "       82.3500061 , 83.35055184, 81.76600194, 84.06219292])"
      ]
     },
     "execution_count": 343,
     "metadata": {},
     "output_type": "execute_result"
    }
   ],
   "source": [
    "np.array(list(hf_gpt_small.values()))"
   ]
  },
  {
   "cell_type": "code",
   "execution_count": 342,
   "id": "9a73588a",
   "metadata": {},
   "outputs": [
    {
     "name": "stderr",
     "output_type": "stream",
     "text": [
      "  9%|▉         | 9/100 [21:02<3:32:47, 140.30s/it]\n"
     ]
    },
    {
     "ename": "KeyboardInterrupt",
     "evalue": "",
     "output_type": "error",
     "traceback": [
      "\u001b[0;31m---------------------------------------------------------------------------\u001b[0m",
      "\u001b[0;31mKeyboardInterrupt\u001b[0m                         Traceback (most recent call last)",
      "\u001b[0;32m<ipython-input-342-24dc088a0bac>\u001b[0m in \u001b[0;36m<module>\u001b[0;34m\u001b[0m\n\u001b[1;32m      3\u001b[0m \u001b[0;32mfor\u001b[0m \u001b[0m_\u001b[0m\u001b[0;34m,\u001b[0m \u001b[0mmax_length\u001b[0m \u001b[0;32min\u001b[0m \u001b[0mzip\u001b[0m\u001b[0;34m(\u001b[0m\u001b[0mtrange\u001b[0m\u001b[0;34m(\u001b[0m\u001b[0mlen\u001b[0m\u001b[0;34m(\u001b[0m\u001b[0mtext_lengths\u001b[0m\u001b[0;34m)\u001b[0m\u001b[0;34m)\u001b[0m\u001b[0;34m,\u001b[0m \u001b[0mtext_lengths\u001b[0m\u001b[0;34m)\u001b[0m\u001b[0;34m:\u001b[0m\u001b[0;34m\u001b[0m\u001b[0;34m\u001b[0m\u001b[0m\n\u001b[1;32m      4\u001b[0m   \u001b[0mst\u001b[0m \u001b[0;34m=\u001b[0m \u001b[0mtime\u001b[0m\u001b[0;34m(\u001b[0m\u001b[0;34m)\u001b[0m\u001b[0;34m\u001b[0m\u001b[0;34m\u001b[0m\u001b[0m\n\u001b[0;32m----> 5\u001b[0;31m   \u001b[0mgenerate\u001b[0m\u001b[0;34m(\u001b[0m\u001b[0msample_inputs\u001b[0m\u001b[0;34m,\u001b[0m \u001b[0mmax_length\u001b[0m\u001b[0;34m)\u001b[0m\u001b[0;34m\u001b[0m\u001b[0;34m\u001b[0m\u001b[0m\n\u001b[0m\u001b[1;32m      6\u001b[0m   \u001b[0mtime_per_seq_vanilla_gpt_124\u001b[0m\u001b[0;34m[\u001b[0m\u001b[0mmax_length\u001b[0m\u001b[0;34m]\u001b[0m \u001b[0;34m=\u001b[0m \u001b[0mtime\u001b[0m\u001b[0;34m(\u001b[0m\u001b[0;34m)\u001b[0m \u001b[0;34m-\u001b[0m \u001b[0mst\u001b[0m\u001b[0;34m\u001b[0m\u001b[0;34m\u001b[0m\u001b[0m\n",
      "\u001b[0;32m~/Library/Python/3.8/lib/python/site-packages/torch/autograd/grad_mode.py\u001b[0m in \u001b[0;36mdecorate_context\u001b[0;34m(*args, **kwargs)\u001b[0m\n\u001b[1;32m     25\u001b[0m         \u001b[0;32mdef\u001b[0m \u001b[0mdecorate_context\u001b[0m\u001b[0;34m(\u001b[0m\u001b[0;34m*\u001b[0m\u001b[0margs\u001b[0m\u001b[0;34m,\u001b[0m \u001b[0;34m**\u001b[0m\u001b[0mkwargs\u001b[0m\u001b[0;34m)\u001b[0m\u001b[0;34m:\u001b[0m\u001b[0;34m\u001b[0m\u001b[0;34m\u001b[0m\u001b[0m\n\u001b[1;32m     26\u001b[0m             \u001b[0;32mwith\u001b[0m \u001b[0mself\u001b[0m\u001b[0;34m.\u001b[0m\u001b[0m__class__\u001b[0m\u001b[0;34m(\u001b[0m\u001b[0;34m)\u001b[0m\u001b[0;34m:\u001b[0m\u001b[0;34m\u001b[0m\u001b[0;34m\u001b[0m\u001b[0m\n\u001b[0;32m---> 27\u001b[0;31m                 \u001b[0;32mreturn\u001b[0m \u001b[0mfunc\u001b[0m\u001b[0;34m(\u001b[0m\u001b[0;34m*\u001b[0m\u001b[0margs\u001b[0m\u001b[0;34m,\u001b[0m \u001b[0;34m**\u001b[0m\u001b[0mkwargs\u001b[0m\u001b[0;34m)\u001b[0m\u001b[0;34m\u001b[0m\u001b[0;34m\u001b[0m\u001b[0m\n\u001b[0m\u001b[1;32m     28\u001b[0m         \u001b[0;32mreturn\u001b[0m \u001b[0mcast\u001b[0m\u001b[0;34m(\u001b[0m\u001b[0mF\u001b[0m\u001b[0;34m,\u001b[0m \u001b[0mdecorate_context\u001b[0m\u001b[0;34m)\u001b[0m\u001b[0;34m\u001b[0m\u001b[0;34m\u001b[0m\u001b[0m\n\u001b[1;32m     29\u001b[0m \u001b[0;34m\u001b[0m\u001b[0m\n",
      "\u001b[0;32m<ipython-input-331-5df0a278632e>\u001b[0m in \u001b[0;36mgenerate\u001b[0;34m(input_ids, max_length, num_return_sequences)\u001b[0m\n\u001b[1;32m     23\u001b[0m \u001b[0;34m\u001b[0m\u001b[0m\n\u001b[1;32m     24\u001b[0m   \u001b[0;32mfor\u001b[0m \u001b[0mi\u001b[0m \u001b[0;32min\u001b[0m \u001b[0mrange\u001b[0m\u001b[0;34m(\u001b[0m\u001b[0mS\u001b[0m\u001b[0;34m+\u001b[0m\u001b[0;36m1\u001b[0m\u001b[0;34m,\u001b[0m \u001b[0mmax_length\u001b[0m\u001b[0;34m+\u001b[0m\u001b[0;36m1\u001b[0m\u001b[0;34m,\u001b[0m \u001b[0;36m1\u001b[0m\u001b[0;34m)\u001b[0m\u001b[0;34m:\u001b[0m\u001b[0;34m\u001b[0m\u001b[0;34m\u001b[0m\u001b[0m\n\u001b[0;32m---> 25\u001b[0;31m     \u001b[0mlogits\u001b[0m \u001b[0;34m=\u001b[0m \u001b[0mmodel\u001b[0m\u001b[0;34m(\u001b[0m\u001b[0minput_ids\u001b[0m\u001b[0;34m)\u001b[0m\u001b[0;34m.\u001b[0m\u001b[0mlogits\u001b[0m\u001b[0;34m[\u001b[0m\u001b[0;34m:\u001b[0m\u001b[0;34m,\u001b[0m \u001b[0;34m-\u001b[0m\u001b[0;36m1\u001b[0m\u001b[0;34m,\u001b[0m \u001b[0;34m:\u001b[0m\u001b[0;34m]\u001b[0m \u001b[0;31m# only the last token\u001b[0m\u001b[0;34m\u001b[0m\u001b[0;34m\u001b[0m\u001b[0m\n\u001b[0m\u001b[1;32m     26\u001b[0m \u001b[0;34m\u001b[0m\u001b[0m\n\u001b[1;32m     27\u001b[0m     \u001b[0;31m# sample next tokens randomly\u001b[0m\u001b[0;34m\u001b[0m\u001b[0;34m\u001b[0m\u001b[0;34m\u001b[0m\u001b[0m\n",
      "\u001b[0;32m~/Library/Python/3.8/lib/python/site-packages/torch/nn/modules/module.py\u001b[0m in \u001b[0;36m_call_impl\u001b[0;34m(self, *input, **kwargs)\u001b[0m\n\u001b[1;32m    887\u001b[0m             \u001b[0mresult\u001b[0m \u001b[0;34m=\u001b[0m \u001b[0mself\u001b[0m\u001b[0;34m.\u001b[0m\u001b[0m_slow_forward\u001b[0m\u001b[0;34m(\u001b[0m\u001b[0;34m*\u001b[0m\u001b[0minput\u001b[0m\u001b[0;34m,\u001b[0m \u001b[0;34m**\u001b[0m\u001b[0mkwargs\u001b[0m\u001b[0;34m)\u001b[0m\u001b[0;34m\u001b[0m\u001b[0;34m\u001b[0m\u001b[0m\n\u001b[1;32m    888\u001b[0m         \u001b[0;32melse\u001b[0m\u001b[0;34m:\u001b[0m\u001b[0;34m\u001b[0m\u001b[0;34m\u001b[0m\u001b[0m\n\u001b[0;32m--> 889\u001b[0;31m             \u001b[0mresult\u001b[0m \u001b[0;34m=\u001b[0m \u001b[0mself\u001b[0m\u001b[0;34m.\u001b[0m\u001b[0mforward\u001b[0m\u001b[0;34m(\u001b[0m\u001b[0;34m*\u001b[0m\u001b[0minput\u001b[0m\u001b[0;34m,\u001b[0m \u001b[0;34m**\u001b[0m\u001b[0mkwargs\u001b[0m\u001b[0;34m)\u001b[0m\u001b[0;34m\u001b[0m\u001b[0;34m\u001b[0m\u001b[0m\n\u001b[0m\u001b[1;32m    890\u001b[0m         for hook in itertools.chain(\n\u001b[1;32m    891\u001b[0m                 \u001b[0m_global_forward_hooks\u001b[0m\u001b[0;34m.\u001b[0m\u001b[0mvalues\u001b[0m\u001b[0;34m(\u001b[0m\u001b[0;34m)\u001b[0m\u001b[0;34m,\u001b[0m\u001b[0;34m\u001b[0m\u001b[0;34m\u001b[0m\u001b[0m\n",
      "\u001b[0;32m~/Library/Python/3.8/lib/python/site-packages/transformers/models/gpt2/modeling_gpt2.py\u001b[0m in \u001b[0;36mforward\u001b[0;34m(self, input_ids, past_key_values, attention_mask, token_type_ids, position_ids, head_mask, inputs_embeds, encoder_hidden_states, encoder_attention_mask, labels, use_cache, output_attentions, output_hidden_states, return_dict)\u001b[0m\n\u001b[1;32m    924\u001b[0m             \u001b[0mhidden_states\u001b[0m \u001b[0;34m=\u001b[0m \u001b[0mhidden_states\u001b[0m\u001b[0;34m.\u001b[0m\u001b[0mto\u001b[0m\u001b[0;34m(\u001b[0m\u001b[0mself\u001b[0m\u001b[0;34m.\u001b[0m\u001b[0mlm_head\u001b[0m\u001b[0;34m.\u001b[0m\u001b[0mweight\u001b[0m\u001b[0;34m.\u001b[0m\u001b[0mdevice\u001b[0m\u001b[0;34m)\u001b[0m\u001b[0;34m\u001b[0m\u001b[0;34m\u001b[0m\u001b[0m\n\u001b[1;32m    925\u001b[0m \u001b[0;34m\u001b[0m\u001b[0m\n\u001b[0;32m--> 926\u001b[0;31m         \u001b[0mlm_logits\u001b[0m \u001b[0;34m=\u001b[0m \u001b[0mself\u001b[0m\u001b[0;34m.\u001b[0m\u001b[0mlm_head\u001b[0m\u001b[0;34m(\u001b[0m\u001b[0mhidden_states\u001b[0m\u001b[0;34m)\u001b[0m\u001b[0;34m\u001b[0m\u001b[0;34m\u001b[0m\u001b[0m\n\u001b[0m\u001b[1;32m    927\u001b[0m \u001b[0;34m\u001b[0m\u001b[0m\n\u001b[1;32m    928\u001b[0m         \u001b[0mloss\u001b[0m \u001b[0;34m=\u001b[0m \u001b[0;32mNone\u001b[0m\u001b[0;34m\u001b[0m\u001b[0;34m\u001b[0m\u001b[0m\n",
      "\u001b[0;32m~/Library/Python/3.8/lib/python/site-packages/torch/nn/modules/module.py\u001b[0m in \u001b[0;36m_call_impl\u001b[0;34m(self, *input, **kwargs)\u001b[0m\n\u001b[1;32m    887\u001b[0m             \u001b[0mresult\u001b[0m \u001b[0;34m=\u001b[0m \u001b[0mself\u001b[0m\u001b[0;34m.\u001b[0m\u001b[0m_slow_forward\u001b[0m\u001b[0;34m(\u001b[0m\u001b[0;34m*\u001b[0m\u001b[0minput\u001b[0m\u001b[0;34m,\u001b[0m \u001b[0;34m**\u001b[0m\u001b[0mkwargs\u001b[0m\u001b[0;34m)\u001b[0m\u001b[0;34m\u001b[0m\u001b[0;34m\u001b[0m\u001b[0m\n\u001b[1;32m    888\u001b[0m         \u001b[0;32melse\u001b[0m\u001b[0;34m:\u001b[0m\u001b[0;34m\u001b[0m\u001b[0;34m\u001b[0m\u001b[0m\n\u001b[0;32m--> 889\u001b[0;31m             \u001b[0mresult\u001b[0m \u001b[0;34m=\u001b[0m \u001b[0mself\u001b[0m\u001b[0;34m.\u001b[0m\u001b[0mforward\u001b[0m\u001b[0;34m(\u001b[0m\u001b[0;34m*\u001b[0m\u001b[0minput\u001b[0m\u001b[0;34m,\u001b[0m \u001b[0;34m**\u001b[0m\u001b[0mkwargs\u001b[0m\u001b[0;34m)\u001b[0m\u001b[0;34m\u001b[0m\u001b[0;34m\u001b[0m\u001b[0m\n\u001b[0m\u001b[1;32m    890\u001b[0m         for hook in itertools.chain(\n\u001b[1;32m    891\u001b[0m                 \u001b[0m_global_forward_hooks\u001b[0m\u001b[0;34m.\u001b[0m\u001b[0mvalues\u001b[0m\u001b[0;34m(\u001b[0m\u001b[0;34m)\u001b[0m\u001b[0;34m,\u001b[0m\u001b[0;34m\u001b[0m\u001b[0;34m\u001b[0m\u001b[0m\n",
      "\u001b[0;32m~/Library/Python/3.8/lib/python/site-packages/torch/nn/modules/linear.py\u001b[0m in \u001b[0;36mforward\u001b[0;34m(self, input)\u001b[0m\n\u001b[1;32m     92\u001b[0m \u001b[0;34m\u001b[0m\u001b[0m\n\u001b[1;32m     93\u001b[0m     \u001b[0;32mdef\u001b[0m \u001b[0mforward\u001b[0m\u001b[0;34m(\u001b[0m\u001b[0mself\u001b[0m\u001b[0;34m,\u001b[0m \u001b[0minput\u001b[0m\u001b[0;34m:\u001b[0m \u001b[0mTensor\u001b[0m\u001b[0;34m)\u001b[0m \u001b[0;34m->\u001b[0m \u001b[0mTensor\u001b[0m\u001b[0;34m:\u001b[0m\u001b[0;34m\u001b[0m\u001b[0;34m\u001b[0m\u001b[0m\n\u001b[0;32m---> 94\u001b[0;31m         \u001b[0;32mreturn\u001b[0m \u001b[0mF\u001b[0m\u001b[0;34m.\u001b[0m\u001b[0mlinear\u001b[0m\u001b[0;34m(\u001b[0m\u001b[0minput\u001b[0m\u001b[0;34m,\u001b[0m \u001b[0mself\u001b[0m\u001b[0;34m.\u001b[0m\u001b[0mweight\u001b[0m\u001b[0;34m,\u001b[0m \u001b[0mself\u001b[0m\u001b[0;34m.\u001b[0m\u001b[0mbias\u001b[0m\u001b[0;34m)\u001b[0m\u001b[0;34m\u001b[0m\u001b[0;34m\u001b[0m\u001b[0m\n\u001b[0m\u001b[1;32m     95\u001b[0m \u001b[0;34m\u001b[0m\u001b[0m\n\u001b[1;32m     96\u001b[0m     \u001b[0;32mdef\u001b[0m \u001b[0mextra_repr\u001b[0m\u001b[0;34m(\u001b[0m\u001b[0mself\u001b[0m\u001b[0;34m)\u001b[0m \u001b[0;34m->\u001b[0m \u001b[0mstr\u001b[0m\u001b[0;34m:\u001b[0m\u001b[0;34m\u001b[0m\u001b[0;34m\u001b[0m\u001b[0m\n",
      "\u001b[0;32m~/Library/Python/3.8/lib/python/site-packages/torch/nn/functional.py\u001b[0m in \u001b[0;36mlinear\u001b[0;34m(input, weight, bias)\u001b[0m\n\u001b[1;32m   1751\u001b[0m     \u001b[0;32mif\u001b[0m \u001b[0mhas_torch_function_variadic\u001b[0m\u001b[0;34m(\u001b[0m\u001b[0minput\u001b[0m\u001b[0;34m,\u001b[0m \u001b[0mweight\u001b[0m\u001b[0;34m)\u001b[0m\u001b[0;34m:\u001b[0m\u001b[0;34m\u001b[0m\u001b[0;34m\u001b[0m\u001b[0m\n\u001b[1;32m   1752\u001b[0m         \u001b[0;32mreturn\u001b[0m \u001b[0mhandle_torch_function\u001b[0m\u001b[0;34m(\u001b[0m\u001b[0mlinear\u001b[0m\u001b[0;34m,\u001b[0m \u001b[0;34m(\u001b[0m\u001b[0minput\u001b[0m\u001b[0;34m,\u001b[0m \u001b[0mweight\u001b[0m\u001b[0;34m)\u001b[0m\u001b[0;34m,\u001b[0m \u001b[0minput\u001b[0m\u001b[0;34m,\u001b[0m \u001b[0mweight\u001b[0m\u001b[0;34m,\u001b[0m \u001b[0mbias\u001b[0m\u001b[0;34m=\u001b[0m\u001b[0mbias\u001b[0m\u001b[0;34m)\u001b[0m\u001b[0;34m\u001b[0m\u001b[0;34m\u001b[0m\u001b[0m\n\u001b[0;32m-> 1753\u001b[0;31m     \u001b[0;32mreturn\u001b[0m \u001b[0mtorch\u001b[0m\u001b[0;34m.\u001b[0m\u001b[0m_C\u001b[0m\u001b[0;34m.\u001b[0m\u001b[0m_nn\u001b[0m\u001b[0;34m.\u001b[0m\u001b[0mlinear\u001b[0m\u001b[0;34m(\u001b[0m\u001b[0minput\u001b[0m\u001b[0;34m,\u001b[0m \u001b[0mweight\u001b[0m\u001b[0;34m,\u001b[0m \u001b[0mbias\u001b[0m\u001b[0;34m)\u001b[0m\u001b[0;34m\u001b[0m\u001b[0;34m\u001b[0m\u001b[0m\n\u001b[0m\u001b[1;32m   1754\u001b[0m \u001b[0;34m\u001b[0m\u001b[0m\n\u001b[1;32m   1755\u001b[0m \u001b[0;34m\u001b[0m\u001b[0m\n",
      "\u001b[0;31mKeyboardInterrupt\u001b[0m: "
     ]
    }
   ],
   "source": [
    "sample_inputs = torch.randint(low = 0, high = vocab_size, size = (1, 10))\n",
    "time_per_seq_vanilla_gpt_124 = {}\n",
    "for _, max_length in zip(trange(len(text_lengths)), text_lengths):\n",
    "  st = time()\n",
    "  generate(sample_inputs, max_length)\n",
    "  time_per_seq_vanilla_gpt_124[max_length] = time() - st"
   ]
  },
  {
   "cell_type": "code",
   "execution_count": 344,
   "id": "f6043f9f",
   "metadata": {},
   "outputs": [
    {
     "data": {
      "text/plain": [
       "array([ 37.19195414,  52.34601283,  76.42361617, 101.24192476,\n",
       "       125.88396978, 157.562819  , 195.53068709, 228.61091113,\n",
       "       270.90618801])"
      ]
     },
     "execution_count": 344,
     "metadata": {},
     "output_type": "execute_result"
    }
   ],
   "source": [
    "np.array(list(time_per_seq_vanilla_gpt_124.values()))"
   ]
  },
  {
   "cell_type": "markdown",
   "id": "17e26b8b",
   "metadata": {},
   "source": [
    "## ONNX runtime Transformer"
   ]
  },
  {
   "cell_type": "code",
   "execution_count": 345,
   "id": "49613540",
   "metadata": {},
   "outputs": [
    {
     "data": {
      "text/plain": [
       "124439808"
      ]
     },
     "execution_count": 345,
     "metadata": {},
     "output_type": "execute_result"
    }
   ],
   "source": [
    "# starting with GPT-2 from HF\n",
    "# model = GPT2LMHeadModel(tinyconf)\n",
    "model.eval()\n",
    "model.num_parameters()"
   ]
  },
  {
   "cell_type": "code",
   "execution_count": 346,
   "id": "5fd928f9",
   "metadata": {},
   "outputs": [
    {
     "name": "stderr",
     "output_type": "stream",
     "text": [
      "/Users/yashbonde/Library/Python/3.8/lib/python/site-packages/transformers/models/gpt2/modeling_gpt2.py:170: TracerWarning: Converting a tensor to a Python float might cause the trace to be incorrect. We can't record the data flow of Python values, so this value will be treated as a constant in the future. This means that the trace might not generalize to other inputs!\n",
      "  w = w / (float(v.size(-1)) ** 0.5)\n"
     ]
    }
   ],
   "source": [
    "# Export the model\n",
    "\n",
    "# since this is a very large model we cannot export this as a single ONNX graph\n",
    "# we pass argument use_external_data_format=True in torch.onnx.export(), last arg\n",
    "# this creates a weight blob for different layers. we create a folder for this\n",
    "# so everything is consolidated\n",
    "import os\n",
    "export_folder = \"./data/gpt\"\n",
    "export_onnx = export_folder + \"/model.onnx\"\n",
    "os.makedirs(export_folder, exist_ok=True)\n",
    "\n",
    "# unlike our MNIST example where the dimensionality of input was fixed to 784\n",
    "# BERT and transformer models can have 2D dynamic input/output\n",
    "dynamic_axes_dict = {\n",
    "  0:'batch_size',\n",
    "  1:'sequence_length'\n",
    "}\n",
    "\n",
    "# eval mode and \n",
    "model.eval()\n",
    "\n",
    "# since the input is fully dynamic, tiny sequence will work for trace\n",
    "sample_input = torch.randint(low = 0, high = tinyconf.vocab_size, size = (1, 4))\n",
    "\n",
    "# export model\n",
    "torch.onnx.export(\n",
    "  model = model,\n",
    "  args = (\n",
    "    sample_input,\n",
    "  ),                         # model input (or a tuple for multiple inputs)\n",
    "  f = export_onnx,           # where to save the model (can be a file or file-like object)\n",
    "  export_params=True,        # store the trained parameter weights inside the model file\n",
    "  opset_version=11,          # the ONNX version to export the model to\n",
    "  do_constant_folding=True,  # whether to execute constant folding for optimization\n",
    "  input_names = [\n",
    "    'input_ids'\n",
    "  ],                         # the model's input names\n",
    "  output_names = ['logits'], # the model's output names\n",
    "  dynamic_axes={\n",
    "    'input_ids': dynamic_axes_dict,\n",
    "    'logits': dynamic_axes_dict,\n",
    "  },                         # variable length axes\n",
    ")"
   ]
  },
  {
   "cell_type": "code",
   "execution_count": 347,
   "id": "5a02ce76",
   "metadata": {},
   "outputs": [],
   "source": [
    "# check model: for models >2GB use onnx.checker\n",
    "import onnx\n",
    "onnx.checker.check_model(export_onnx)\n",
    "\n",
    "# next run the model and see\n",
    "import onnxruntime\n",
    "ort_session = onnxruntime.InferenceSession(export_onnx)"
   ]
  },
  {
   "cell_type": "code",
   "execution_count": 348,
   "id": "ded75169",
   "metadata": {},
   "outputs": [],
   "source": [
    "# correct solution:\n",
    "def softmax(x):\n",
    "  \"\"\"Compute softmax values for each sets of scores in x.\"\"\"\n",
    "  e_x = np.exp(x - np.max(x))\n",
    "  return e_x / e_x.sum(axis=0) # only difference"
   ]
  },
  {
   "cell_type": "code",
   "execution_count": 349,
   "id": "6fd6d4d8",
   "metadata": {},
   "outputs": [],
   "source": [
    "def generate(\n",
    "  input_ids,\n",
    "  max_length,\n",
    "  num_return_sequences = 10,\n",
    "):\n",
    "  # if just a sequence, batchify\n",
    "  if len(input_ids.shape) == 1:\n",
    "    input_ids = input_ids.reshape(1, *input_ids.shape)\n",
    "\n",
    "  # since the hidden states for all `num_return_sequences` will be same\n",
    "  # we first run those and then tile\n",
    "  B, S = input_ids.shape\n",
    "\n",
    "  assert B == 1, \"Only 1 sequence at a time can be generated\"\n",
    "  \n",
    "  input_ids = np.tile(input_ids, [num_return_sequences, 1])\n",
    "  \n",
    "  for i in range(S+1, max_length+1, 1):\n",
    "    ort_inputs = {\"input_ids\": input_ids}\n",
    "    logits = ort_session.run(None, ort_inputs)[0][:, -1, :] # only the last token\n",
    "    \n",
    "    # sample next tokens randomly\n",
    "    new_tokens = np.asarray([np.random.multinomial(10, softmax(o)).argmax() for o in logits]).reshape(-1, 1)\n",
    "    input_ids = np.hstack([input_ids, new_tokens])"
   ]
  },
  {
   "cell_type": "code",
   "execution_count": 350,
   "id": "c133c17d",
   "metadata": {},
   "outputs": [
    {
     "name": "stderr",
     "output_type": "stream",
     "text": [
      "  0%|          | 0/100 [00:05<?, ?it/s]\n"
     ]
    },
    {
     "ename": "ValueError",
     "evalue": "sum(pvals[:-1]) > 1.0",
     "output_type": "error",
     "traceback": [
      "\u001b[0;31m---------------------------------------------------------------------------\u001b[0m",
      "\u001b[0;31mValueError\u001b[0m                                Traceback (most recent call last)",
      "\u001b[0;32m<ipython-input-350-541fcf4f348a>\u001b[0m in \u001b[0;36m<module>\u001b[0;34m\u001b[0m\n\u001b[1;32m      3\u001b[0m \u001b[0;32mfor\u001b[0m \u001b[0m_\u001b[0m\u001b[0;34m,\u001b[0m \u001b[0mmax_length\u001b[0m \u001b[0;32min\u001b[0m \u001b[0mzip\u001b[0m\u001b[0;34m(\u001b[0m\u001b[0mtrange\u001b[0m\u001b[0;34m(\u001b[0m\u001b[0mlen\u001b[0m\u001b[0;34m(\u001b[0m\u001b[0mtext_lengths\u001b[0m\u001b[0;34m)\u001b[0m\u001b[0;34m)\u001b[0m\u001b[0;34m,\u001b[0m \u001b[0mtext_lengths\u001b[0m\u001b[0;34m)\u001b[0m\u001b[0;34m:\u001b[0m\u001b[0;34m\u001b[0m\u001b[0;34m\u001b[0m\u001b[0m\n\u001b[1;32m      4\u001b[0m   \u001b[0mst\u001b[0m \u001b[0;34m=\u001b[0m \u001b[0mtime\u001b[0m\u001b[0;34m(\u001b[0m\u001b[0;34m)\u001b[0m\u001b[0;34m\u001b[0m\u001b[0;34m\u001b[0m\u001b[0m\n\u001b[0;32m----> 5\u001b[0;31m   \u001b[0mgenerate\u001b[0m\u001b[0;34m(\u001b[0m\u001b[0msample_input\u001b[0m\u001b[0;34m,\u001b[0m \u001b[0mmax_length\u001b[0m\u001b[0;34m)\u001b[0m\u001b[0;34m\u001b[0m\u001b[0;34m\u001b[0m\u001b[0m\n\u001b[0m\u001b[1;32m      6\u001b[0m   \u001b[0mtime_per_seq_onnx_gpt\u001b[0m\u001b[0;34m[\u001b[0m\u001b[0mmax_length\u001b[0m\u001b[0;34m]\u001b[0m \u001b[0;34m=\u001b[0m \u001b[0mtime\u001b[0m\u001b[0;34m(\u001b[0m\u001b[0;34m)\u001b[0m \u001b[0;34m-\u001b[0m \u001b[0mst\u001b[0m\u001b[0;34m\u001b[0m\u001b[0;34m\u001b[0m\u001b[0m\n",
      "\u001b[0;32m<ipython-input-349-79063b56a2dd>\u001b[0m in \u001b[0;36mgenerate\u001b[0;34m(input_ids, max_length, num_return_sequences)\u001b[0m\n\u001b[1;32m     21\u001b[0m \u001b[0;34m\u001b[0m\u001b[0m\n\u001b[1;32m     22\u001b[0m     \u001b[0;31m# sample next tokens randomly\u001b[0m\u001b[0;34m\u001b[0m\u001b[0;34m\u001b[0m\u001b[0;34m\u001b[0m\u001b[0m\n\u001b[0;32m---> 23\u001b[0;31m     \u001b[0mnew_tokens\u001b[0m \u001b[0;34m=\u001b[0m \u001b[0mnp\u001b[0m\u001b[0;34m.\u001b[0m\u001b[0masarray\u001b[0m\u001b[0;34m(\u001b[0m\u001b[0;34m[\u001b[0m\u001b[0mnp\u001b[0m\u001b[0;34m.\u001b[0m\u001b[0mrandom\u001b[0m\u001b[0;34m.\u001b[0m\u001b[0mmultinomial\u001b[0m\u001b[0;34m(\u001b[0m\u001b[0;36m10\u001b[0m\u001b[0;34m,\u001b[0m \u001b[0msoftmax\u001b[0m\u001b[0;34m(\u001b[0m\u001b[0mo\u001b[0m\u001b[0;34m)\u001b[0m\u001b[0;34m)\u001b[0m\u001b[0;34m.\u001b[0m\u001b[0margmax\u001b[0m\u001b[0;34m(\u001b[0m\u001b[0;34m)\u001b[0m \u001b[0;32mfor\u001b[0m \u001b[0mo\u001b[0m \u001b[0;32min\u001b[0m \u001b[0mlogits\u001b[0m\u001b[0;34m]\u001b[0m\u001b[0;34m)\u001b[0m\u001b[0;34m.\u001b[0m\u001b[0mreshape\u001b[0m\u001b[0;34m(\u001b[0m\u001b[0;34m-\u001b[0m\u001b[0;36m1\u001b[0m\u001b[0;34m,\u001b[0m \u001b[0;36m1\u001b[0m\u001b[0;34m)\u001b[0m\u001b[0;34m\u001b[0m\u001b[0;34m\u001b[0m\u001b[0m\n\u001b[0m\u001b[1;32m     24\u001b[0m     \u001b[0minput_ids\u001b[0m \u001b[0;34m=\u001b[0m \u001b[0mnp\u001b[0m\u001b[0;34m.\u001b[0m\u001b[0mhstack\u001b[0m\u001b[0;34m(\u001b[0m\u001b[0;34m[\u001b[0m\u001b[0minput_ids\u001b[0m\u001b[0;34m,\u001b[0m \u001b[0mnew_tokens\u001b[0m\u001b[0;34m]\u001b[0m\u001b[0;34m)\u001b[0m\u001b[0;34m\u001b[0m\u001b[0;34m\u001b[0m\u001b[0m\n",
      "\u001b[0;32m<ipython-input-349-79063b56a2dd>\u001b[0m in \u001b[0;36m<listcomp>\u001b[0;34m(.0)\u001b[0m\n\u001b[1;32m     21\u001b[0m \u001b[0;34m\u001b[0m\u001b[0m\n\u001b[1;32m     22\u001b[0m     \u001b[0;31m# sample next tokens randomly\u001b[0m\u001b[0;34m\u001b[0m\u001b[0;34m\u001b[0m\u001b[0;34m\u001b[0m\u001b[0m\n\u001b[0;32m---> 23\u001b[0;31m     \u001b[0mnew_tokens\u001b[0m \u001b[0;34m=\u001b[0m \u001b[0mnp\u001b[0m\u001b[0;34m.\u001b[0m\u001b[0masarray\u001b[0m\u001b[0;34m(\u001b[0m\u001b[0;34m[\u001b[0m\u001b[0mnp\u001b[0m\u001b[0;34m.\u001b[0m\u001b[0mrandom\u001b[0m\u001b[0;34m.\u001b[0m\u001b[0mmultinomial\u001b[0m\u001b[0;34m(\u001b[0m\u001b[0;36m10\u001b[0m\u001b[0;34m,\u001b[0m \u001b[0msoftmax\u001b[0m\u001b[0;34m(\u001b[0m\u001b[0mo\u001b[0m\u001b[0;34m)\u001b[0m\u001b[0;34m)\u001b[0m\u001b[0;34m.\u001b[0m\u001b[0margmax\u001b[0m\u001b[0;34m(\u001b[0m\u001b[0;34m)\u001b[0m \u001b[0;32mfor\u001b[0m \u001b[0mo\u001b[0m \u001b[0;32min\u001b[0m \u001b[0mlogits\u001b[0m\u001b[0;34m]\u001b[0m\u001b[0;34m)\u001b[0m\u001b[0;34m.\u001b[0m\u001b[0mreshape\u001b[0m\u001b[0;34m(\u001b[0m\u001b[0;34m-\u001b[0m\u001b[0;36m1\u001b[0m\u001b[0;34m,\u001b[0m \u001b[0;36m1\u001b[0m\u001b[0;34m)\u001b[0m\u001b[0;34m\u001b[0m\u001b[0;34m\u001b[0m\u001b[0m\n\u001b[0m\u001b[1;32m     24\u001b[0m     \u001b[0minput_ids\u001b[0m \u001b[0;34m=\u001b[0m \u001b[0mnp\u001b[0m\u001b[0;34m.\u001b[0m\u001b[0mhstack\u001b[0m\u001b[0;34m(\u001b[0m\u001b[0;34m[\u001b[0m\u001b[0minput_ids\u001b[0m\u001b[0;34m,\u001b[0m \u001b[0mnew_tokens\u001b[0m\u001b[0;34m]\u001b[0m\u001b[0;34m)\u001b[0m\u001b[0;34m\u001b[0m\u001b[0;34m\u001b[0m\u001b[0m\n",
      "\u001b[0;32mmtrand.pyx\u001b[0m in \u001b[0;36mnumpy.random.mtrand.RandomState.multinomial\u001b[0;34m()\u001b[0m\n",
      "\u001b[0;31mValueError\u001b[0m: sum(pvals[:-1]) > 1.0"
     ]
    }
   ],
   "source": [
    "sample_input = np.random.randint(low = 0, high = vocab_size, size = (10))\n",
    "time_per_seq_onnx_gpt = {}\n",
    "for _, max_length in zip(trange(len(text_lengths)), text_lengths):\n",
    "  st = time()\n",
    "  generate(sample_input, max_length)\n",
    "  time_per_seq_onnx_gpt[max_length] = time() - st"
   ]
  },
  {
   "cell_type": "markdown",
   "id": "2eae6e61",
   "metadata": {},
   "source": [
    "## TransRNN (Vanilla + ONNXRuntime)"
   ]
  },
  {
   "cell_type": "code",
   "execution_count": 4,
   "id": "7958c311",
   "metadata": {},
   "outputs": [],
   "source": [
    "import os\n",
    "import sys\n",
    "sys.path.append(os.path.abspath(\"..\"))\n",
    "from t2rmodel import T2R"
   ]
  },
  {
   "cell_type": "code",
   "execution_count": 355,
   "id": "838d36ee",
   "metadata": {},
   "outputs": [
    {
     "data": {
      "text/plain": [
       "2916608"
      ]
     },
     "execution_count": 355,
     "metadata": {},
     "output_type": "execute_result"
    }
   ],
   "source": [
    "# model = T2R.from_pretrained(\"gpt2\", feature_size = 32)\n",
    "# model.num_params\n",
    "tinyconf = GPT2Config(**tinyconf.__dict__, feature_size = 32)\n",
    "model = T2R(tinyconf)\n",
    "model.num_params"
   ]
  },
  {
   "cell_type": "code",
   "execution_count": 356,
   "id": "8fc6bfcf",
   "metadata": {},
   "outputs": [
    {
     "data": {
      "text/plain": [
       "torch.Size([1024, 128])"
      ]
     },
     "execution_count": 356,
     "metadata": {},
     "output_type": "execute_result"
    }
   ],
   "source": [
    "model.wpe.weight.shape"
   ]
  },
  {
   "cell_type": "code",
   "execution_count": 357,
   "id": "f0b9d343",
   "metadata": {},
   "outputs": [
    {
     "name": "stdout",
     "output_type": "stream",
     "text": [
      "Preparing Model for inference\n"
     ]
    }
   ],
   "source": [
    "model.infer_init()"
   ]
  },
  {
   "cell_type": "code",
   "execution_count": 358,
   "id": "10bf207e",
   "metadata": {
    "scrolled": false
   },
   "outputs": [],
   "source": [
    "def top_k_logits(logits, k):\n",
    "  v, ix = torch.topk(logits, k)\n",
    "  out = logits.clone()\n",
    "  out[out < v[:, [-1]]] = -1e10\n",
    "  return out\n",
    "\n",
    "def get_next_tokens(logits, top_k, do_sample, num_return_sequences):\n",
    "  # get probabilities\n",
    "  if top_k is not None:\n",
    "    logits = top_k_logits(logits, top_k)\n",
    "  probs = F.softmax(logits, dim=-1)\n",
    "\n",
    "  # get top_k tokens for each \n",
    "  if do_sample:\n",
    "    ix = torch.multinomial(probs, num_samples=num_return_sequences)\n",
    "  else:\n",
    "    _, ix = torch.topk(probs, k=num_return_sequences, dim=-1)\n",
    "\n",
    "  # get scores\n",
    "  # each_probs = probs[:, ix].view(-1)\n",
    "  # v, ix = torch.topk(each_probs, num_return_sequences )\n",
    "  # print(ix)\n",
    "\n",
    "  return ix\n",
    "\n",
    "# test vanilla generation\n",
    "@torch.no_grad()\n",
    "def vanilla_generation(\n",
    "  input_ids,\n",
    "  max_length,\n",
    "  num_return_sequences = 10,\n",
    "  top_k = 10,\n",
    "  do_sample = True\n",
    "):\n",
    "  assert model.infer_ready, \"Not ready for inference. see `T2RInfer.infer_init()`\"\n",
    "\n",
    "  # if just a sequence, batchify\n",
    "  if len(input_ids.shape) == 1:\n",
    "    input_ids = input_ids.unsqueeze(0)\n",
    "\n",
    "  # since the hidden states for all `num_return_sequences` will be same\n",
    "  # we first run those and then tile\n",
    "  B, S = input_ids.shape\n",
    "\n",
    "  assert B == 1, \"Only 1 sequence at a time can be generated\"\n",
    "  \n",
    "  # make the times list\n",
    "  st = time()\n",
    "  times = [st]\n",
    "  \n",
    "  s_rnn, z_rnn = model.init_hidden()\n",
    "  B,S = input_ids.shape\n",
    "  for i in range(S):\n",
    "    logits, s_rnn, z_rnn = model(input_ids[:, i].unsqueeze(0), s_rnn = s_rnn, z_rnn = z_rnn, i = i)\n",
    "    times.append(time())\n",
    "\n",
    "  ix = get_next_tokens(logits[:, -1, :], top_k, do_sample, num_return_sequences)\n",
    "  generated_tokens = [ix[0]]\n",
    "\n",
    "  if num_return_sequences > 1:\n",
    "    # tile rnn_states for multiple batch generation\n",
    "    s_rnn = [torch.tile(s, [num_return_sequences, 1, 1]) for s in s_rnn]\n",
    "    z_rnn = [torch.tile(z, [num_return_sequences, 1, 1]) for z in z_rnn]\n",
    "\n",
    "  for i in range(S, max_length - 1, 1):\n",
    "    logits, s_rnn, z_rnn = model(ix.view(num_return_sequences, 1), s_rnn = s_rnn, z_rnn = z_rnn, i = i)\n",
    "    ix = get_next_tokens(logits[:, -1, :], top_k, do_sample, num_return_sequences)\n",
    "    generated_tokens.append(ix[0])\n",
    "    \n",
    "    # add way to keep only the top scoring ones here\n",
    "    ix = ix[0]\n",
    "    \n",
    "    times.append(time())\n",
    "    \n",
    "  generated_tokens = [x.unsqueeze(-1) for x in generated_tokens]\n",
    "  generated_tokens = torch.cat(generated_tokens, dim = 1)\n",
    "  input_ids = torch.tile(input_ids, [num_return_sequences, 1])\n",
    "  full_seq = torch.cat([input_ids, generated_tokens], dim = 1)\n",
    "  # return full_seq\n",
    "  \n",
    "  # we return times for this test\n",
    "  return times"
   ]
  },
  {
   "cell_type": "code",
   "execution_count": 359,
   "id": "b1867788",
   "metadata": {},
   "outputs": [
    {
     "name": "stderr",
     "output_type": "stream",
     "text": [
      "100%|██████████| 10/10 [02:01<00:00, 12.20s/it]\n"
     ]
    }
   ],
   "source": [
    "# changing the method a little bit from GPTs, we instead let it generate maximum\n",
    "# number of tokens for `n` number of rounds and mean the values for each run\n",
    "# making the testing process much faster.\n",
    "\n",
    "sample_inputs = torch.randint(low = 0, high = vocab_size, size = (1, 10))\n",
    "time_per_seq_vanilla_t2r = []\n",
    "n_tests = 10\n",
    "for _ in trange(n_tests):\n",
    "  st = time()\n",
    "  this_run_times = vanilla_generation(\n",
    "    input_ids = sample_inputs,\n",
    "    max_length = 1024,\n",
    "  )\n",
    "  time_per_seq_vanilla_t2r.append(this_run_times)"
   ]
  },
  {
   "cell_type": "code",
   "execution_count": 360,
   "id": "e81115e3",
   "metadata": {},
   "outputs": [],
   "source": [
    "vanilla_t2r = np.array(time_per_seq_vanilla_t2r)\n",
    "# for each case subtract the start time of that generation i.e. first token\n",
    "vanilla_t2r = vanilla_t2r[:, 1:] - vanilla_t2r[:, :1]\n",
    "vanilla_t2r = np.mean(vanilla_t2r, 0)"
   ]
  },
  {
   "cell_type": "code",
   "execution_count": 361,
   "id": "db1419ba",
   "metadata": {},
   "outputs": [
    {
     "data": {
      "text/plain": [
       "[<matplotlib.lines.Line2D at 0x135465b50>]"
      ]
     },
     "execution_count": 361,
     "metadata": {},
     "output_type": "execute_result"
    },
    {
     "data": {
      "image/png": "[encoded data removed]",
      "text/plain": [
       "<Figure size 432x288 with 1 Axes>"
      ]
     },
     "metadata": {
      "needs_background": "light"
     },
     "output_type": "display_data"
    }
   ],
   "source": [
    "plt.plot(vanilla_t2r)"
   ]
  },
  {
   "cell_type": "code",
   "execution_count": 362,
   "id": "cccf7e6e",
   "metadata": {
    "scrolled": false
   },
   "outputs": [
    {
     "name": "stderr",
     "output_type": "stream",
     "text": [
      "/Users/yashbonde/Desktop/AI/ks2labs/RNN-sim/t2rmodel.py:210: TracerWarning: Converting a tensor to a Python boolean might cause the trace to be incorrect. We can't record the data flow of Python values, so this value will be treated as a constant in the future. This means that the trace might not generalize to other inputs!\n",
      "  assert x.shape[1] == 1, f\"During inference only one token is allowed got: {x.shape}\"\n"
     ]
    }
   ],
   "source": [
    "# Export the model\n",
    "\n",
    "# since this is a very large model we cannot export this as a single ONNX graph\n",
    "# we pass argument use_external_data_format=True in torch.onnx.export(), last arg\n",
    "# this creates a weight blob for different layers. we create a folder for this\n",
    "# so everything is consolidated\n",
    "import os\n",
    "export_folder = \"./data/onnxrnn\"\n",
    "export_onnx = export_folder + \"/model.onnx\"\n",
    "os.makedirs(export_folder, exist_ok=True)\n",
    "\n",
    "# unlike our MNIST example where the dimensionality of input was fixed to 784\n",
    "# BERT and transformer models can have 2D dynamic input/output\n",
    "dynamic_axes_dict = {\n",
    "  0:'batch_size',\n",
    "}\n",
    "\n",
    "# eval mode and \n",
    "model.eval()\n",
    "\n",
    "# since the input is fully dynamic, tiny sequence will work for trace\n",
    "sample_input = torch.randint(low = 0, high = tinyconf.vocab_size, size = (1, 1))\n",
    "s, z = model.init_hidden()\n",
    "i = torch.Tensor([0]).long()\n",
    "\n",
    "# export model\n",
    "torch.onnx.export(\n",
    "  model = model,\n",
    "  args = (\n",
    "    sample_input, # input_ids\n",
    "    None,\n",
    "    None,\n",
    "    s,            # s_rnn\n",
    "    z,            # z_rnn\n",
    "    i\n",
    "  ),                         # model input (or a tuple for multiple inputs)\n",
    "  f = export_onnx,           # where to save the model (can be a file or file-like object)\n",
    "  export_params=True,        # store the trained parameter weights inside the model file\n",
    "  opset_version=11,          # the ONNX version to export the model to\n",
    "  do_constant_folding=True,  # whether to execute constant folding for optimization\n",
    "  input_names = [\n",
    "    'input_ids',\n",
    "    *[f's.{i}' for i in range(len(s))],\n",
    "    *[f'z.{i}' for i in range(len(z))],\n",
    "    'i'\n",
    "  ],                         # the model's input names\n",
    "  output_names = [\n",
    "    'logits',\n",
    "    *[f'sout.{i}' for i in range(len(s))],\n",
    "    *[f'zout.{i}' for i in range(len(s))],\n",
    "  ], # the model's output names\n",
    "  dynamic_axes={\n",
    "    'input_ids': dynamic_axes_dict,\n",
    "    **{f's.{i}':dynamic_axes_dict for i in range(len(s))},\n",
    "    **{f'z.{i}':dynamic_axes_dict for i in range(len(z))},\n",
    "    **{f'sout.{i}':dynamic_axes_dict for i in range(len(s))},\n",
    "    **{f'zout.{i}':dynamic_axes_dict for i in range(len(z))},\n",
    "  }, # variable length axes\n",
    "  verbose = False\n",
    ")"
   ]
  },
  {
   "cell_type": "code",
   "execution_count": 363,
   "id": "c067db9a",
   "metadata": {},
   "outputs": [],
   "source": [
    "# check model: for models >2GB use onnx.checker\n",
    "import onnx\n",
    "onnx.checker.check_model(export_onnx)\n",
    "\n",
    "# next run the model and see\n",
    "import onnxruntime\n",
    "ort_session = onnxruntime.InferenceSession(export_onnx)"
   ]
  },
  {
   "cell_type": "code",
   "execution_count": 364,
   "id": "50a5f2bb",
   "metadata": {},
   "outputs": [
    {
     "data": {
      "text/plain": [
       "[('input_ids', ['batch_size', 1], 'tensor(int64)'),\n",
       " ('s.0', ['batch_size', 32, 128], 'tensor(float)'),\n",
       " ('s.1', ['batch_size', 32, 128], 'tensor(float)'),\n",
       " ('s.2', ['batch_size', 32, 128], 'tensor(float)'),\n",
       " ('s.3', ['batch_size', 32, 128], 'tensor(float)'),\n",
       " ('s.4', ['batch_size', 32, 128], 'tensor(float)'),\n",
       " ('s.5', ['batch_size', 32, 128], 'tensor(float)'),\n",
       " ('s.6', ['batch_size', 32, 128], 'tensor(float)'),\n",
       " ('s.7', ['batch_size', 32, 128], 'tensor(float)'),\n",
       " ('s.8', ['batch_size', 32, 128], 'tensor(float)'),\n",
       " ('s.9', ['batch_size', 32, 128], 'tensor(float)'),\n",
       " ('s.10', ['batch_size', 32, 128], 'tensor(float)'),\n",
       " ('s.11', ['batch_size', 32, 128], 'tensor(float)'),\n",
       " ('z.0', ['batch_size', 32, 8], 'tensor(float)'),\n",
       " ('z.1', ['batch_size', 32, 8], 'tensor(float)'),\n",
       " ('z.2', ['batch_size', 32, 8], 'tensor(float)'),\n",
       " ('z.3', ['batch_size', 32, 8], 'tensor(float)'),\n",
       " ('z.4', ['batch_size', 32, 8], 'tensor(float)'),\n",
       " ('z.5', ['batch_size', 32, 8], 'tensor(float)'),\n",
       " ('z.6', ['batch_size', 32, 8], 'tensor(float)'),\n",
       " ('z.7', ['batch_size', 32, 8], 'tensor(float)'),\n",
       " ('z.8', ['batch_size', 32, 8], 'tensor(float)'),\n",
       " ('z.9', ['batch_size', 32, 8], 'tensor(float)'),\n",
       " ('z.10', ['batch_size', 32, 8], 'tensor(float)'),\n",
       " ('z.11', ['batch_size', 32, 8], 'tensor(float)'),\n",
       " ('i', [1], 'tensor(int64)')]"
      ]
     },
     "execution_count": 364,
     "metadata": {},
     "output_type": "execute_result"
    }
   ],
   "source": [
    "[(x.name, x.shape, x.type) for x in ort_session.get_inputs()]"
   ]
  },
  {
   "cell_type": "code",
   "execution_count": 365,
   "id": "03637619",
   "metadata": {},
   "outputs": [
    {
     "data": {
      "text/plain": [
       "[('logits', ['batch_size', 1, 38], 'tensor(float)'),\n",
       " ('sout.0', ['batch_size', 32, 128], 'tensor(float)'),\n",
       " ('sout.1', ['batch_size', 32, 128], 'tensor(float)'),\n",
       " ('sout.2', ['batch_size', 32, 128], 'tensor(float)'),\n",
       " ('sout.3', ['batch_size', 32, 128], 'tensor(float)'),\n",
       " ('sout.4', ['batch_size', 32, 128], 'tensor(float)'),\n",
       " ('sout.5', ['batch_size', 32, 128], 'tensor(float)'),\n",
       " ('sout.6', ['batch_size', 32, 128], 'tensor(float)'),\n",
       " ('sout.7', ['batch_size', 32, 128], 'tensor(float)'),\n",
       " ('sout.8', ['batch_size', 32, 128], 'tensor(float)'),\n",
       " ('sout.9', ['batch_size', 32, 128], 'tensor(float)'),\n",
       " ('sout.10', ['batch_size', 32, 128], 'tensor(float)'),\n",
       " ('sout.11', ['batch_size', 32, 128], 'tensor(float)'),\n",
       " ('zout.0', ['batch_size', 32, 8], 'tensor(float)'),\n",
       " ('zout.1', ['batch_size', 32, 8], 'tensor(float)'),\n",
       " ('zout.2', ['batch_size', 32, 8], 'tensor(float)'),\n",
       " ('zout.3', ['batch_size', 32, 8], 'tensor(float)'),\n",
       " ('zout.4', ['batch_size', 32, 8], 'tensor(float)'),\n",
       " ('zout.5', ['batch_size', 32, 8], 'tensor(float)'),\n",
       " ('zout.6', ['batch_size', 32, 8], 'tensor(float)'),\n",
       " ('zout.7', ['batch_size', 32, 8], 'tensor(float)'),\n",
       " ('zout.8', ['batch_size', 32, 8], 'tensor(float)'),\n",
       " ('zout.9', ['batch_size', 32, 8], 'tensor(float)'),\n",
       " ('zout.10', ['batch_size', 32, 8], 'tensor(float)'),\n",
       " ('zout.11', ['batch_size', 32, 8], 'tensor(float)')]"
      ]
     },
     "execution_count": 365,
     "metadata": {},
     "output_type": "execute_result"
    }
   ],
   "source": [
    "[(x.name, x.shape, x.type) for x in ort_session.get_outputs()]"
   ]
  },
  {
   "cell_type": "code",
   "execution_count": 366,
   "id": "fbe7f834",
   "metadata": {},
   "outputs": [],
   "source": [
    "ort_inputs = {\n",
    "  'input_ids': sample_input.numpy(),\n",
    "  'i': np.ones([1,]).astype(int) * 12\n",
    "}\n",
    "s_rnn, z_rnn = model.init_hidden()\n",
    "for i_, (s, z) in enumerate(zip(s_rnn, z_rnn)):\n",
    "  ort_inputs.update({\n",
    "    f\"s.{i_}\": s.numpy().astype(np.float32),\n",
    "    f\"z.{i_}\": z.numpy().astype(np.float32),\n",
    "  })\n",
    "\n",
    "# pass through the model\n",
    "ort_outs = ort_session.run(None, ort_inputs)"
   ]
  },
  {
   "cell_type": "code",
   "execution_count": 367,
   "id": "11e7d5e1",
   "metadata": {},
   "outputs": [],
   "source": [
    "def onnx_generate(\n",
    "  input_ids,\n",
    "  max_length,\n",
    "  num_return_sequences = 10,\n",
    "  top_k = 10,\n",
    "  do_sample = True\n",
    "):\n",
    "  # if just a sequence, batchify\n",
    "  if len(input_ids.shape) == 1:\n",
    "    input_ids = input_ids.reshape(1, *input_ids.shape)\n",
    "\n",
    "  # since the hidden states for all `num_return_sequences` will be same\n",
    "  # we first run those and then tile\n",
    "  B, S = input_ids.shape\n",
    "  assert B == 1, \"Only 1 sequence at a time can be generated\"\n",
    "  \n",
    "  times = [time()]\n",
    "\n",
    "  # do the forward passes for input sequence\n",
    "  for i in range(S):\n",
    "    # create the dictionary for this input\n",
    "    ort_inputs = {\n",
    "      'input_ids': input_ids[:, i:i+1],\n",
    "      'i': np.ones([1,]).astype(int) * i\n",
    "    }\n",
    "    if i == 0:\n",
    "      s_rnn, z_rnn = model.init_hidden()\n",
    "      for i_, (s, z) in enumerate(zip(s_rnn, z_rnn)):\n",
    "        ort_inputs.update({\n",
    "          f\"s.{i_}\": s.numpy().astype(np.float32),\n",
    "          f\"z.{i_}\": z.numpy().astype(np.float32),\n",
    "        })\n",
    "    else:\n",
    "      ort_inputs.update({f\"s.{i_}\":s for i_,s in enumerate(s_rnn)})\n",
    "      ort_inputs.update({f\"z.{i_}\":z for i_,z in enumerate(z_rnn)})\n",
    "    \n",
    "    # pass through the model\n",
    "    ort_outs = ort_session.run(None, ort_inputs)\n",
    "    logits = ort_outs[0][0, 0]\n",
    "    s_rnn = ort_outs[1:13]\n",
    "    z_rnn = ort_outs[13:]\n",
    "    \n",
    "    times.append(time())\n",
    "\n",
    "  # now we do tile for beam search\n",
    "  new_tokens = logits.argsort()[::-1][:10][:num_return_sequences].reshape(-1, 1)\n",
    "  s_rnn = np.tile(s_rnn, [num_return_sequences, 1, 1])\n",
    "  z_rnn = np.tile(z_rnn, [num_return_sequences, 1, 1])\n",
    "  generated_token = [new_tokens]\n",
    "  \n",
    "  # now we generate for other steps\n",
    "  for i in range(S, max_length - 1, 1):\n",
    "    ort_inputs = {\n",
    "      'input_ids': new_tokens,\n",
    "      'i': np.ones([1,]).astype(int) * i\n",
    "    }\n",
    "    ort_inputs.update({f\"s.{i_}\":s for i_,s in enumerate(s_rnn)})\n",
    "    ort_inputs.update({f\"z.{i_}\":z for i_,z in enumerate(z_rnn)})\n",
    "    \n",
    "    # pass through the model\n",
    "    ort_outs = ort_session.run(None, ort_inputs)\n",
    "    logits = ort_outs[0][0, 0]\n",
    "    s_rnn = ort_outs[1:13]\n",
    "    z_rnn = ort_outs[13:]\n",
    "    \n",
    "    new_tokens = logits.argsort()[::-1][:10][:num_return_sequences].reshape(-1, 1)\n",
    "    generated_token.append(new_tokens)\n",
    "    \n",
    "    times.append(time())\n",
    "    \n",
    "  # now finally tile input_ids and merge with generate tokens\n",
    "  input_ids = np.tile(input_ids, [num_return_sequences, 1])\n",
    "  generated_token = np.array(generated_token)[:, :, 0].T\n",
    "  generated_token = np.hstack([input_ids, generated_token])\n",
    "  # return generated_token\n",
    "  \n",
    "  return times"
   ]
  },
  {
   "cell_type": "code",
   "execution_count": 368,
   "id": "3d53b5b7",
   "metadata": {},
   "outputs": [
    {
     "name": "stderr",
     "output_type": "stream",
     "text": [
      "100%|██████████| 10/10 [01:05<00:00,  6.53s/it]\n"
     ]
    }
   ],
   "source": [
    "# test with ONNX runtime just like with Vanilla\n",
    "sample_inputs = np.random.randint(low = 0, high = vocab_size, size = (10))\n",
    "time_per_seq_onnx_t2r = []\n",
    "n_tests = 10\n",
    "for _ in trange(n_tests):\n",
    "  this_run_times = onnx_generate(\n",
    "    input_ids = sample_inputs,\n",
    "    max_length = 1024,\n",
    "    num_return_sequences = 10,\n",
    "    top_k = 10,\n",
    "    do_sample = True\n",
    "  )\n",
    "  time_per_seq_onnx_t2r.append(this_run_times)"
   ]
  },
  {
   "cell_type": "code",
   "execution_count": 369,
   "id": "3a7651ae",
   "metadata": {},
   "outputs": [],
   "source": [
    "onnx_t2r = np.array(time_per_seq_onnx_t2r)\n",
    "# for each case subtract the start time of that generation i.e. first token\n",
    "onnx_t2r = onnx_t2r[:, 1:] - onnx_t2r[:, :1]\n",
    "onnx_t2r = np.mean(onnx_t2r, 0)"
   ]
  },
  {
   "cell_type": "code",
   "execution_count": 370,
   "id": "ab6f6660",
   "metadata": {},
   "outputs": [
    {
     "data": {
      "text/plain": [
       "[<matplotlib.lines.Line2D at 0x134dc4910>]"
      ]
     },
     "execution_count": 370,
     "metadata": {},
     "output_type": "execute_result"
    },
    {
     "data": {
      "image/png": "[encoded data removed]",
      "text/plain": [
       "<Figure size 432x288 with 1 Axes>"
      ]
     },
     "metadata": {
      "needs_background": "light"
     },
     "output_type": "display_data"
    }
   ],
   "source": [
    "plt.plot(onnx_t2r)"
   ]
  },
  {
   "cell_type": "code",
   "execution_count": 371,
   "id": "dd5ffbcb",
   "metadata": {},
   "outputs": [
    {
     "data": {
      "text/plain": [
       "(array([0.30001078, 0.3603044 , 0.42240689, 0.48196082, 0.54125097,\n",
       "        0.6023731 , 0.66296175, 0.71808777, 0.77635245, 0.83531108,\n",
       "        0.89477158, 0.95519314, 1.01546245, 1.07159636, 1.13419592,\n",
       "        1.19410977, 1.25383372, 1.31882656, 1.38073926, 1.43710034,\n",
       "        1.50217981, 1.56583438, 1.62816389, 1.69034131, 1.7536243 ,\n",
       "        1.80904608, 1.8686095 , 1.9296319 , 1.98867092, 2.05364389,\n",
       "        2.12158947, 2.17747838, 2.2417171 , 2.30212214, 2.36518948,\n",
       "        2.42551796, 2.48610356, 2.54596701, 2.60178342, 2.67385237,\n",
       "        2.7381335 , 2.80237994, 2.86764221, 2.93438027, 2.99237921,\n",
       "        3.05558076, 3.11647213, 3.17842669, 3.24511909, 3.31024184,\n",
       "        3.3666657 , 3.43316984, 3.50073555, 3.56904719, 3.63326676,\n",
       "        3.69783058, 3.75435944, 3.81718402, 3.88622403, 3.95263777,\n",
       "        4.01813571, 4.08591025, 4.14504466, 4.21564918, 4.28588283,\n",
       "        4.35968587, 4.42603579, 4.4884665 , 4.55309491, 4.61042697,\n",
       "        4.68080883, 4.74614847, 4.80754242, 4.87065289, 4.93422985,\n",
       "        4.99717016, 5.06745598, 5.1313802 , 5.19557893, 5.26083806,\n",
       "        5.32736878, 5.38999691, 5.45796313, 5.52133729, 5.58717172,\n",
       "        5.65494246, 5.72161069, 5.77992527, 5.84363828, 5.90766242,\n",
       "        5.96902733, 6.0292872 , 6.09106138, 6.1462888 , 6.20708616,\n",
       "        6.27100027, 6.33482368, 6.39998732, 6.47004688, 6.5301888 ]),\n",
       " array([ 0.56671388,  0.67359655,  0.78942873,  0.90299215,  1.01795886,\n",
       "         1.14033697,  1.26314981,  1.37789428,  1.49893751,  1.61863811,\n",
       "         1.74153607,  1.85831563,  1.9710768 ,  2.08303423,  2.20933535,\n",
       "         2.33492794,  2.45753722,  2.5699872 ,  2.68282847,  2.78343313,\n",
       "         2.90104597,  3.03728797,  3.15480113,  3.26841815,  3.38305266,\n",
       "         3.4866617 ,  3.59534445,  3.71095529,  3.82004516,  3.93199563,\n",
       "         4.05742745,  4.1730397 ,  4.29538913,  4.41554096,  4.54044476,\n",
       "         4.65632424,  4.77870173,  4.89409518,  4.99949501,  5.12991142,\n",
       "         5.25270586,  5.37733274,  5.49448187,  5.61682236,  5.72981851,\n",
       "         5.8535291 ,  5.97173789,  6.08711662,  6.21083498,  6.33080153,\n",
       "         6.44273212,  6.56256754,  6.67766445,  6.80322993,  6.92847986,\n",
       "         7.05461242,  7.15795329,  7.27309558,  7.39327693,  7.52126291,\n",
       "         7.63920929,  7.75235434,  7.85563443,  7.96589205,  8.0766067 ,\n",
       "         8.18782921,  8.30923176,  8.43549905,  8.55274069,  8.65201373,\n",
       "         8.76212304,  8.88100386,  8.99744177,  9.11451535,  9.2297307 ,\n",
       "         9.34802833,  9.46985993,  9.5914402 ,  9.70292084,  9.82403152,\n",
       "         9.94086027, 10.04783657, 10.1713438 , 10.29628515, 10.41213396,\n",
       "        10.53081672, 10.64601169, 10.75286644, 10.8641257 , 10.98493938,\n",
       "        11.11366363, 11.23917418, 11.35869994, 11.46962202, 11.58583174,\n",
       "        11.70541499, 11.82434275, 11.94261985, 12.06710079, 12.18951399]))"
      ]
     },
     "execution_count": 371,
     "metadata": {},
     "output_type": "execute_result"
    }
   ],
   "source": [
    "times_onnx_t2r = onnx_t2r[text_lengths - 2] # -1 (for 0-shift), -1 (for bug in above code)\n",
    "times_vanilla_t2r = vanilla_t2r[text_lengths - 2] # -1 (for 0-shift), -1 (for bug in above code)\n",
    "\n",
    "times_onnx_t2r, times_vanilla_t2r"
   ]
  },
  {
   "cell_type": "markdown",
   "id": "79944c36",
   "metadata": {},
   "source": [
    "## Plot Results"
   ]
  },
  {
   "cell_type": "code",
   "execution_count": 15,
   "id": "aff0552d",
   "metadata": {},
   "outputs": [],
   "source": [
    "import json\n",
    "data = json.load(open(\"./times.json\", \"r\"))"
   ]
  },
  {
   "cell_type": "code",
   "execution_count": 16,
   "id": "79823184",
   "metadata": {},
   "outputs": [],
   "source": [
    "\n",
    "hftime = data[\"hftime\"]\n",
    "trtime = data[\"trtime\"]\n",
    "time_per_seq_vanilla_gpt = data[\"time_per_seq_vanilla_gpt\"]\n",
    "time_per_seq_onnx_gpt = data[\"time_per_seq_onnx_gpt\"]\n",
    "time_per_seq_onnx_rnn = data[\"time_per_seq_onnx_rnn\"]\n",
    "rnn_163Mn = data[\"rnn_163Mn\"]\n",
    "text_lengths = data[\"text_lengths\"]"
   ]
  },
  {
   "cell_type": "code",
   "execution_count": 17,
   "id": "070d3775",
   "metadata": {},
   "outputs": [
    {
     "data": {
      "image/png": "[encoded data removed]",
      "text/plain": [
       "<Figure size 1440x576 with 1 Axes>"
      ]
     },
     "metadata": {
      "needs_background": "light"
     },
     "output_type": "display_data"
    }
   ],
   "source": [
    "# create plots\n",
    "plt.figure(figsize = (20, 8))\n",
    "plt.plot(time_per_seq_vanilla_gpt)\n",
    "plt.plot(hftime)\n",
    "plt.plot(trtime)\n",
    "plt.plot(openvino)\n",
    "plt.plot(time_per_seq_onnx_gpt)\n",
    "plt.plot(time_per_seq_onnx_rnn)\n",
    "plt.plot(rnn_163Mn)\n",
    "plt.ylabel(\"Time in Seconds (log)\")\n",
    "plt.xticks(\n",
    "  ticks = np.arange(len(text_lengths) // 2) * 2,\n",
    "  labels = np.array(text_lengths)[np.arange(0, len(text_lengths), 2)],\n",
    "  rotation = 90\n",
    ")\n",
    "plt.xlabel(\"Sequence Length to Generate\")\n",
    "plt.legend([\n",
    "  \"Vanilla GPT2\",\n",
    "  \"Huggingface\",\n",
    "  \"Vanilla T2RInfer\",\n",
    "  \"OpenVino T2RInfer (166 Mn)\",\n",
    "  \"ONNXRuntime GPT2\",\n",
    "  \"ONNXRuntime T2RInfer (2.5 Mn)\",\n",
    "  \"ONNXRuntime T2RInfer (166 Mn)\"\n",
    "])\n",
    "plt.title(\"Time taken to generate (beam_size = 10) given 10 input tokens\")\n",
    "plt.yscale(\"log\")\n",
    "plt.savefig(\"./raw_time_log.png\")"
   ]
  },
  {
   "cell_type": "code",
   "execution_count": 18,
   "id": "f4a4b896",
   "metadata": {},
   "outputs": [
    {
     "data": {
      "image/png": "[encoded data removed]",
      "text/plain": [
       "<Figure size 1440x576 with 1 Axes>"
      ]
     },
     "metadata": {
      "needs_background": "light"
     },
     "output_type": "display_data"
    }
   ],
   "source": [
    "# create plots\n",
    "plt.figure(figsize = (20, 8))\n",
    "plt.plot(time_per_seq_vanilla_gpt)\n",
    "plt.plot(hftime)\n",
    "plt.plot(trtime)\n",
    "plt.plot(openvino)\n",
    "plt.plot(time_per_seq_onnx_gpt)\n",
    "plt.plot(time_per_seq_onnx_rnn)\n",
    "plt.plot(rnn_163Mn)\n",
    "plt.ylabel(\"Time in Seconds\")\n",
    "plt.xticks(\n",
    "  ticks = np.arange(len(text_lengths) // 2) * 2,\n",
    "  labels = np.array(text_lengths)[np.arange(0, len(text_lengths), 2)],\n",
    "  rotation = 90\n",
    ")\n",
    "plt.xlabel(\"Sequence Length to Generate\")\n",
    "plt.legend([\n",
    "  \"Vanilla GPT2\",\n",
    "  \"Huggingface\",\n",
    "  \"Vanilla T2RInfer\",\n",
    "  \"OpenVino T2RInfer (166 Mn)\",\n",
    "  \"ONNXRuntime GPT2\",\n",
    "  \"ONNXRuntime T2RInfer (2.5 Mn)\",\n",
    "  \"ONNXRuntime T2RInfer (166 Mn)\"\n",
    "])\n",
    "plt.title(\"Time taken to generate (beam_size = 10) given 10 input tokens\")\n",
    "plt.savefig(\"./raw_time.png\")"
   ]
  },
  {
   "cell_type": "code",
   "execution_count": null,
   "id": "bf140073",
   "metadata": {},
   "outputs": [],
   "source": []
  },
  {
   "cell_type": "code",
   "execution_count": null,
   "id": "5ec44af7",
   "metadata": {},
   "outputs": [],
   "source": [
    "np.argsort()"
   ]
  },
  {
   "cell_type": "code",
   "execution_count": 12,
   "id": "9c419388",
   "metadata": {},
   "outputs": [
    {
     "data": {
      "text/plain": [
       "[(1, 1, 50257), (1, 64, 768), (1, 1, 64)]"
      ]
     },
     "execution_count": 12,
     "metadata": {},
     "output_type": "execute_result"
    }
   ],
   "source": [
    "[x.shape for x in ort_outs]"
   ]
  },
  {
   "cell_type": "code",
   "execution_count": 19,
   "id": "df61d07c",
   "metadata": {},
   "outputs": [],
   "source": [
    "wpe = model.wpe.weight.data.numpy()\n",
    "wte = model.wte.weight.data.numpy()\n",
    "vocab_ = np.arange(tinyconf.vocab_size)\n",
    "\n",
    "def generate(\n",
    "  input_ids,\n",
    "  max_length,\n",
    "  num_return_sequences = 10\n",
    "):\n",
    "  # if just a sequence, batchify\n",
    "  if len(input_ids.shape) == 1:\n",
    "    input_ids = input_ids.reshape(1, *input_ids.shape)\n",
    "\n",
    "  # since the hidden states for all `num_return_sequences` will be same\n",
    "  # we first run those and then tile\n",
    "  B, S = input_ids.shape\n",
    "\n",
    "  assert B == 1, \"Only 1 sequence at a time can be generated\"\n",
    "  \n",
    "  # get the first set of embeddings and hidden states\n",
    "  emb = wte[input_ids] + wte[:S]\n",
    "  s = np.zeros((1, tinyconf.n_embd // tinyconf.n_head, tinyconf.n_embd)).astype(np.float32)\n",
    "  z = np.zeros((1, 1, tinyconf.n_embd // tinyconf.n_head)).astype(np.float32)\n",
    "  \n",
    "  for i in range(emb.shape[1]):\n",
    "    ort_inputs = {\n",
    "      \"input_ids\": emb[:, i:i+1, :],\n",
    "      \"s\": s,\n",
    "      \"z\": z\n",
    "    }\n",
    "    logits, s, z = ort_session.run(None, ort_inputs)\n",
    "    # s = s[0]; z = z[0]\n",
    "  \n",
    "  # randomly select tokens for next step\n",
    "  new_tokens = np.random.choice(vocab_, size = (10,), p = softmax(logits[0][0])).reshape(-1, 1)\n",
    "  s = np.tile(s, [num_return_sequences, 1, 1])\n",
    "  z = np.tile(z, [num_return_sequences, 1, 1])\n",
    "  \n",
    "  for i in range(S+1, max_length, 1):\n",
    "    emb = wte[new_tokens] + wpe[i:i+1]\n",
    "    ort_inputs = {\n",
    "      \"input_ids\": emb,\n",
    "      \"s\": s,\n",
    "      \"z\": z\n",
    "    }\n",
    "    logits, s, z = ort_session.run(None, ort_inputs)\n",
    "    new_tokens = np.vstack([\n",
    "      np.random.choice(vocab_, size = (1,), p = softmax(l)).reshape(-1, 1) for l in logits[:, -1, :]\n",
    "    ])"
   ]
  },
  {
   "cell_type": "code",
   "execution_count": 20,
   "id": "9513450a",
   "metadata": {},
   "outputs": [
    {
     "name": "stderr",
     "output_type": "stream",
     "text": [
      "100%|██████████| 100/100 [14:42<00:00,  8.83s/it]\n"
     ]
    }
   ],
   "source": [
    "sample_input = np.random.randint(low = 0, high = vocab_size, size = (10))\n",
    "time_per_seq_onnx_rnn = {}\n",
    "for _, max_length in zip(trange(len(text_lengths)), text_lengths):\n",
    "  st = time()\n",
    "  generate(sample_input, max_length)\n",
    "  time_per_seq_onnx_rnn[max_length] = time() - st"
   ]
  },
  {
   "cell_type": "code",
   "execution_count": 21,
   "id": "504438b4",
   "metadata": {},
   "outputs": [
    {
     "data": {
      "text/plain": [
       "dict_values([0.8078258037567139, 0.9528629779815674, 1.023085117340088, 1.3267102241516113, 1.5955471992492676, 1.8665919303894043, 1.8290178775787354, 1.8734238147735596, 2.214817762374878, 2.4527370929718018, 2.6101157665252686, 2.7773261070251465, 2.825166940689087, 3.0728960037231445, 3.1171422004699707, 3.2865490913391113, 3.8310091495513916, 4.0839550495147705, 4.0467541217803955, 4.544752836227417, 4.173032999038696, 4.358557939529419, 4.804854154586792, 4.600397109985352, 5.0456459522247314, 5.197699069976807, 5.374312162399292, 5.388933181762695, 5.456713914871216, 5.8326921463012695, 5.692815065383911, 5.841047763824463, 6.03924822807312, 6.236928939819336, 6.3541340827941895, 6.537708044052124, 6.73204493522644, 7.014068841934204, 7.5250842571258545, 7.285407304763794, 7.551724672317505, 8.299933195114136, 8.144722938537598, 8.03302812576294, 8.304935932159424, 8.483222007751465, 8.32650113105774, 8.463954210281372, 8.645501852035522, 8.797425031661987, 9.641960144042969, 9.387210130691528, 9.450478076934814, 9.51991605758667, 9.653730154037476, 9.99559760093689, 10.584656953811646, 10.468290090560913, 10.465898036956787, 11.280603170394897, 10.738075733184814, 10.9172842502594, 11.13709807395935, 11.229904890060425, 11.77758002281189, 11.571346759796143, 11.731151819229126, 11.809141159057617, 12.662194013595581, 13.686334133148193, 13.289978265762329, 13.006233215332031, 12.148551225662231, 12.070403814315796, 12.83561396598816, 12.22691011428833, 12.423428058624268, 12.6525137424469, 12.68385100364685, 12.792601108551025, 12.983532190322876, 13.126617908477783, 13.338057279586792, 13.476840019226074, 13.636482000350952, 13.78541374206543, 14.068947076797485, 14.137412786483765, 14.220309019088745, 14.390641927719116, 14.576472997665405, 14.72642993927002, 14.887132167816162, 14.991446018218994, 15.274276971817017, 15.23928189277649, 15.484319925308228, 15.605724811553955, 16.027278900146484, 15.956920862197876])"
      ]
     },
     "execution_count": 21,
     "metadata": {},
     "output_type": "execute_result"
    }
   ],
   "source": [
    "time_per_seq_onnx_rnn.values()"
   ]
  },
  {
   "cell_type": "code",
   "execution_count": 268,
   "id": "94fc6d88",
   "metadata": {},
   "outputs": [
    {
     "data": {
      "text/plain": [
       "dict_values([0.5959079265594482, 0.687363862991333, 0.75301194190979, 0.8533351421356201, 0.9747490882873535, 1.1346211433410645, 1.5717182159423828, 1.8908727169036865, 1.4194860458374023, 1.5369491577148438, 1.7827610969543457, 1.7322440147399902, 1.8739619255065918, 2.2371459007263184, 2.163003921508789, 2.167092800140381, 2.266625165939331, 2.3798720836639404, 2.505606174468994, 2.7107598781585693, 2.758840799331665, 2.9009530544281006, 3.0136170387268066, 3.0829598903656006, 3.2428767681121826, 3.333710193634033, 3.3943428993225098, 3.5502707958221436, 3.6275131702423096, 3.8873820304870605, 4.97966194152832, 6.926004886627197, 7.60387396812439, 6.169910192489624, 4.96052098274231, 4.541069984436035, 4.674930095672607, 4.807736158370972, 5.31633996963501, 5.458504915237427, 5.588108062744141, 5.786901950836182, 5.545657157897949, 5.516519069671631, 5.604123830795288, 5.9024059772491455, 6.349245309829712, 6.526838064193726, 6.617987155914307, 6.457239866256714, 6.4678730964660645, 6.700317859649658, 6.874399900436401, 6.992015838623047, 7.292781114578247, 7.231415033340454, 7.310716867446899, 7.559641122817993, 7.644207000732422, 7.988410949707031, 7.979838848114014, 7.883902072906494, 8.00269603729248, 8.03238320350647, 8.417850017547607, 8.579051971435547, 9.302956104278564, 8.779901027679443, 8.665467023849487, 9.12933087348938, 9.30663514137268, 9.424662590026855, 9.217226028442383, 9.346886157989502, 9.84749698638916, 9.890618085861206, 9.631170988082886, 9.851988077163696, 9.922441959381104, 10.366507053375244, 10.261409997940063, 10.460005760192871, 10.654867887496948, 10.981161117553711, 11.204596042633057, 10.846029281616211, 10.885334014892578, 11.595859050750732, 11.079048156738281, 11.277546882629395, 11.799643278121948, 11.756839036941528, 11.699911832809448, 12.175809144973755, 12.047747611999512, 11.78695797920227, 12.205284833908081, 12.842317819595337, 12.607604265213013, 12.716302633285522])"
      ]
     },
     "execution_count": 268,
     "metadata": {},
     "output_type": "execute_result"
    }
   ],
   "source": [
    "time_per_seq_onnx_rnn.values()"
   ]
  },
  {
   "cell_type": "code",
   "execution_count": 14,
   "id": "91aaf8d8",
   "metadata": {},
   "outputs": [
    {
     "data": {
      "text/plain": [
       "[16.3699369430542, 16.278465032577515, 16.632145166397095, 16.529223203659058]"
      ]
     },
     "execution_count": 14,
     "metadata": {},
     "output_type": "execute_result"
    }
   ],
   "source": [
    "openvino = list({50: 0.8308169841766357, 59: 0.9385421276092529, 69: 1.1165568828582764, 79: 1.2765130996704102, 89: 1.4416310787200928, 99: 1.6293408870697021, 109: 1.7819478511810303, 118: 1.9143421649932861, 128: 2.059094190597534, 138: 2.232140064239502, 148: 2.40683913230896, 158: 2.5497119426727295, 168: 2.717195987701416, 177: 2.8439559936523438, 187: 3.1171810626983643, 197: 3.1715948581695557, 207: 3.3493387699127197, 217: 3.4994089603424072, 227: 3.6750307083129883, 236: 3.8232548236846924, 246: 3.9808623790740967, 256: 4.163664817810059, 266: 4.583317995071411, 276: 4.583310127258301, 286: 4.672489166259766, 295: 4.858430862426758, 305: 4.918324947357178, 315: 5.102287292480469, 325: 5.300966024398804, 335: 5.502793073654175, 345: 7.916024208068848, 354: 9.381884813308716, 364: 6.780932188034058, 374: 6.352913856506348, 384: 6.500420808792114, 394: 6.815152883529663, 404: 6.956315040588379, 414: 7.163733005523682, 423: 7.183579206466675, 433: 7.287609815597534, 443: 7.648420095443726, 453: 7.841577053070068, 463: 7.861024856567383, 473: 7.98726487159729, 482: 8.216248035430908, 492: 8.442819118499756, 502: 8.333581686019897, 512: 8.349575996398926, 522: 8.693190813064575, 532: 8.815429210662842, 541: 8.82877516746521, 551: 8.983691930770874, 561: 9.351985931396484, 571: 9.420326948165894, 581: 9.446531057357788, 591: 9.79126787185669, 600: 9.925878763198853, 610: 10.005067110061646, 620: 9.90594220161438, 630: 10.42673373222351, 640: 10.369528770446777, 650: 10.969038963317871, 659: 11.338748216629028, 669: 11.508569717407227, 679: 11.2188138961792, 689: 11.422258853912354, 699: 11.534149169921875, 709: 11.492116928100586, 719: 11.815311670303345, 728: 11.94534707069397, 738: 11.941256999969482, 748: 12.272209167480469, 758: 12.487500190734863, 768: 12.45061707496643, 778: 12.9688401222229, 787: 12.84001898765564, 797: 13.045544147491455, 807: 13.321141958236694, 817: 13.282780170440674, 827: 13.46946907043457, 837: 13.7919921875, 846: 13.634413242340088, 856: 14.190178155899048, 866: 14.040977239608765, 876: 14.291153907775879, 886: 14.599408864974976, 896: 14.505081176757812, 905: 15.083547830581665, 915: 14.86729907989502, 925: 15.294875144958496, 935: 15.059892892837524, 945: 15.566175937652588, 955: 15.485416173934937, 964: 15.829054355621338, 974: 15.951651096343994, 984: 16.14839506149292, 994: 16.3699369430542, 1004: 16.278465032577515, 1014: 16.632145166397095, 1024: 16.529223203659058}.values())\n",
    "openvino[-4:]"
   ]
  },
  {
   "cell_type": "code",
   "execution_count": null,
   "id": "e3de3086",
   "metadata": {},
   "outputs": [],
   "source": []
  }
 ],
 "metadata": {
  "kernelspec": {
   "display_name": "Python 3",
   "language": "python",
   "name": "python3"
  },
  "language_info": {
   "codemirror_mode": {
    "name": "ipython",
    "version": 3
   },
   "file_extension": ".py",
   "mimetype": "text/x-python",
   "name": "python",
   "nbconvert_exporter": "python",
   "pygments_lexer": "ipython3",
   "version": "3.8.2"
  }
 },
 "nbformat": 4,
 "nbformat_minor": 5
}
